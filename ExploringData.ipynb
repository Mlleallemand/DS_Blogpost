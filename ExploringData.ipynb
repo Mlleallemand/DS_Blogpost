{
 "cells": [
  {
   "cell_type": "code",
   "execution_count": 1,
   "metadata": {
    "scrolled": true
   },
   "outputs": [],
   "source": [
    "import numpy as np\n",
    "\n",
    "import pandas as pd\n",
    "\n",
    "import pycountry_convert as pc # for filtering all European countries\n",
    "\n",
    "import matplotlib.pyplot as plt\n",
    "\n",
    "# from collections import defaultdict\n",
    "\n",
    "import itertools\n",
    "\n",
    "from pingouin import mixed_anova, read_dataset # for mixed/model ANOVA\n",
    "\n",
    "from Preprocessing_Functions import generate_test_values_matrix\n",
    "from Preprocessing_Functions import do_np_post_hoc_tests\n",
    "from Preprocessing_Functions import create_dummies_col\n",
    "\n",
    "# from IPython.core.debugger import set_trace\n",
    "from sklearn.svm import SVC # \"Support vector classifier\"\n",
    "\n",
    "# used to test for normal distribution before subsituting NaN\n",
    "from scipy.stats import shapiro \n",
    "import scipy.stats as stats\n",
    "\n",
    "#activate inline plotting to show figures inside the Jupyter Notebook\n",
    "%matplotlib inline\n",
    "\n",
    "import seaborn as sns\n",
    "\n",
    "# set styles for seaborn plots\n",
    "sns.set_style('darkgrid')\n",
    "sns.set_color_codes(palette='pastel')"
   ]
  },
  {
   "cell_type": "markdown",
   "metadata": {},
   "source": [
    "# Reading in data and preprocessing\n",
    "\n",
    "In the following, data is read in and cleaned by\n",
    " - removing all columns with less than 40% values\n",
    " - removing all NaN values from the column to predict (e.g. the converted salary)\n",
    " - removing columns which are derivatives of each other as they are linearly dependent and thus do not help in explaining variance in the dataset\n",
    " - converting columns to numeric values where appropriate (e.g. hours of work per week)\n",
    " - removing outliers from numeric columns based on column-specific premises (e.g. work hours of more than 126h per week)\n",
    " - filling in NaN values in columns based on the distribution of data in that column (mean is used for normally distributed data, median is used for non-normal distributions)"
   ]
  },
  {
   "cell_type": "markdown",
   "metadata": {},
   "source": [
    "As the dataset is too large to upload it on Github, please download it from <br>\n",
    "https://drive.google.com/file/d/1dfGerWeWkcyQ9GX9x20rdSGj7WtEpzBB/view?usp=sharing\n",
    "<br>"
   ]
  },
  {
   "cell_type": "code",
   "execution_count": 2,
   "metadata": {
    "scrolled": true
   },
   "outputs": [],
   "source": [
    "df = pd.read_csv(\"developer_survey_2020/survey_results_public.csv\")\n",
    "schema = pd.read_csv(\"developer_survey_2020/survey_results_schema.csv\")"
   ]
  },
  {
   "cell_type": "code",
   "execution_count": 3,
   "metadata": {
    "scrolled": true
   },
   "outputs": [],
   "source": [
    "# drop all columns for which less than 40% of data were registered\n",
    "dfs = df.dropna(axis=1, thresh=np.round(df.shape[0]*0.4))\n",
    "\n",
    "# get the index of all NaN values in 'ConvertedComp' and remove \n",
    "# corresponding rows from the dataframe\n",
    "idx = np.array(dfs['ConvertedComp'].isna())\n",
    "dfs = dfs.drop(axis=0, index=df.index[idx])"
   ]
  },
  {
   "cell_type": "code",
   "execution_count": 4,
   "metadata": {
    "scrolled": true
   },
   "outputs": [],
   "source": [
    "# Select relevant subset of columns\n",
    "# CompFreq and CompTotal are direct derivatives of ConvertedComp and would \n",
    "# distort results\n",
    "idx_remove = ['CompFreq', 'Respondent', 'CompTotal', 'DatabaseDesireNextYear',\n",
    "              'JobSeek', 'DatabaseWorkedWith', 'LanguageDesireNextYear', \n",
    "              'MiscTechDesireNextYear', 'NEWCollabToolsDesireNextYear', \n",
    "              'NEWDevOps', 'NEWDevOpsImpt', 'NEWJobHunt', \n",
    "              'NEWJobHuntResearch','PurchaseWhat', 'SurveyEase', \n",
    "              'CurrencyDesc', 'SurveyLength', 'WebframeDesireNextYear', \n",
    "              'PlatformDesireNextYear','NEWPurchaseResearch', 'Ethnicity',\n",
    "              'Sexuality', 'CurrencySymbol', 'NEWSOSites','SOVisitFreq']\n",
    "dfs = dfs.drop(columns=idx_remove, axis=1)\n",
    "\n",
    "# ------ CONVERT CATEGORICAL TO NUMERIC VARIABLES WHERE APPROPRIATE ------ \n",
    "\n",
    "# cast years of coding to numeric type by substituting with the \"mean\" of \n",
    "# reasonable timespans, i.e. 'More than 50 years' is substituted with 55 years\n",
    "#  - assuming maximum employment duration to be 70 and start of programming \n",
    "# professionally to 15, resulting max professional coding experience is 55 \n",
    "# (70-15)\n",
    "dfs.YearsCodePro.replace({'Less than 1 year': '0.5', \n",
    "                          'More than 50 years': '55'}, inplace=True)\n",
    "dfs.YearsCodePro = dfs.YearsCodePro.astype(np.number)\n",
    "\n",
    "dfs.YearsCode.replace({'Less than 1 year': '0.5', \n",
    "                       'More than 50 years': '60'}, inplace=True)\n",
    "dfs.YearsCode = dfs.YearsCode.astype(np.number)\n",
    "\n",
    "dfs.Age1stCode.replace({'Older than 85': '90', \n",
    "                        'Younger than 5 years': '4'}, inplace=True)\n",
    "dfs.Age1stCode = dfs.Age1stCode.astype(np.number)"
   ]
  },
  {
   "cell_type": "code",
   "execution_count": 5,
   "metadata": {},
   "outputs": [],
   "source": [
    "# ------ REMOVE OUTLIERS FROM NUMERIC COLUMNS --------\n",
    "\n",
    "# I assume some people have listed their yearly income (e.g. 120.000) but \n",
    "# provided frequency 'weekly', resulting in very high ConvertedComp values \n",
    "# which are implausible given other data (age, work hours)\n",
    "for feat in ['ConvertedComp', 'Age']:\n",
    "    idx = np.array(dfs[feat] >= dfs[feat].quantile(.97))\n",
    "    dfs = dfs.drop(axis=0, index=dfs.index[idx])\n",
    "\n",
    "# assuming 6h per day minimum for eating, sleeping, buying groceries,... \n",
    "# maximum work hours per week are 126. Everything above will be substituted by\n",
    "# the median dfs.replace({'WorkWeekHrs':126}, dfs['WorkWeekHrs'].median(), \n",
    "# inplace=True)\n",
    "mask = dfs.WorkWeekHrs >125\n",
    "dfs.loc[mask, 'WorkWeekHrs'] = dfs['WorkWeekHrs'].mean()\n",
    "dfs.fillna(value={'WorkWeekHrs': dfs['WorkWeekHrs'].mean()}, inplace=True)"
   ]
  },
  {
   "cell_type": "code",
   "execution_count": 6,
   "metadata": {},
   "outputs": [],
   "source": [
    "# ------ SUBSTITUTE NANs --------\n",
    "\n",
    "# substitute with mean or median depending on distribution type\n",
    "# for col in dfs.columns:\n",
    "#     if dfs[col].dtype == np.number:\n",
    "#         stat, p = shapiro(np.array(dfs[col]))\n",
    "# #         k, p2 = stats.normaltest(np.array(dfs[col]), nan_policy='omit') \n",
    "#         if p > 0.05:\n",
    "#             print(col, ': Distribution is Gaussian')\n",
    "#             print('Result from normaltest: ', p2)\n",
    "#             mask = dfs[col].isna()\n",
    "#             dfs.loc[mask, col] = dfs[col].mean()\n",
    "#             #dfs[col][dfs[col].isna()] = dfs[col].mean()\n",
    "#         else:\n",
    "#             print(col, ': Distribution is not Gaussian')\n",
    "#             print('Result from normaltest: ', p2)\n",
    "#             mask = dfs[col].isna()\n",
    "#             dfs.loc[mask, col] = dfs[col].median()\n",
    "#             #dfs[col][dfs[col].isna()] = dfs[col].median()   "
   ]
  },
  {
   "cell_type": "markdown",
   "metadata": {},
   "source": [
    "## Add necessary new columns"
   ]
  },
  {
   "cell_type": "markdown",
   "metadata": {},
   "source": [
    "__Create individual columns for multiple-selection items in the questionnaire__"
   ]
  },
  {
   "cell_type": "code",
   "execution_count": 7,
   "metadata": {},
   "outputs": [],
   "source": [
    "dfs['EdLevel'].replace({'Associate degree (A.A., A.S., etc.)':'Associate',\n",
    "                        'Bachelor’s degree (B.A., B.S., B.Eng., etc.)': \n",
    "                        'Bachelor',\n",
    "                        'Master’s degree (M.A., M.S., M.Eng., MBA, etc.)':\n",
    "                        'Master', \n",
    "                        'Other doctoral degree (Ph.D., Ed.D., etc.)':\n",
    "                        'Doctorate', \n",
    "                        'Professional degree (JD, MD, etc.)':'Doctorate',\n",
    "                        'Secondary school (e.g. American high school, German Realschule or Gymnasium, etc.)':\n",
    "                        'Sec_school',\n",
    "                        'Some college/university study without earning a degree':\n",
    "                        'Sec_school',\n",
    "                        'Primary/elementary school':'Prim_School',\n",
    "                        'I never completed any formal education':'No_ed'\n",
    "                       }, inplace=True)"
   ]
  },
  {
   "cell_type": "code",
   "execution_count": 8,
   "metadata": {},
   "outputs": [],
   "source": [
    "# some items in the questionnaire allowed for multiple answers. \n",
    "# Each unique combination of these is listed as a value-concatenation \n",
    "# delimited by ';'. \n",
    "# For further analysis, we need to split this again into separate columns\n",
    "\n",
    "for col in ['DevType', 'JobFactors', 'EdLevel']:\n",
    "    # prevent creating dummies for a variable twice\n",
    "    if col in dfs.columns:\n",
    "        dfs = create_dummies_col(df_in=dfs, col=col, delim=';', \n",
    "                                 delete_original=True)"
   ]
  },
  {
   "cell_type": "markdown",
   "metadata": {},
   "source": [
    "__Clean / shorten labels and dichotomize__"
   ]
  },
  {
   "cell_type": "code",
   "execution_count": 9,
   "metadata": {},
   "outputs": [],
   "source": [
    "# Dichotomize Education into higher education (i.e. minimum a university\n",
    "# degree) and others (e.g. primary / secondary school)\n",
    "dfs['HigherEd'] =  (dfs['EdLevel_Associate'] + dfs['EdLevel_Bachelor'] + \n",
    "                    dfs['EdLevel_Doctorate'] + dfs['EdLevel_Master'])"
   ]
  },
  {
   "cell_type": "markdown",
   "metadata": {},
   "source": [
    "**Add new gender column**<br>\n",
    "Generate a new column that only distinguishes male, female and genderqueer. \n",
    "Many participants chose combinations of genderqueer and one of male or female, \n",
    "thus labels cannot be easily substituted"
   ]
  },
  {
   "cell_type": "code",
   "execution_count": 10,
   "metadata": {},
   "outputs": [],
   "source": [
    "# break up ';'-delimited labels into columns\n",
    "dfs = create_dummies_col(dfs, 'Gender', ';', False)\n",
    "dfs['Gender'] = dfs.Gender_Man + (dfs.Gender_Woman*2) + \\\n",
    "            (dfs['Gender_Non-binary, genderqueer, or gender non-conforming']*3)\n",
    "\n",
    "# remove old dummies columns\n",
    "dfs.drop(columns = ['Gender_Man', \n",
    "                    'Gender_Non-binary, genderqueer, or gender non-conforming', \n",
    "                    'Gender_Woman'], inplace = True)\n",
    "\n",
    "# now 0=NaN, 1=Male, 2=Female, 3=Gender non-binary etc.\n",
    "dfs.replace({'Gender':[4,5,6]}, 3, inplace=True)\n",
    "\n",
    "# generate a column holding string data\n",
    "dfs['Genderlabels'] = dfs['Gender'].copy()\n",
    "dfs.replace({'Genderlabels':1}, 'Male', inplace=True)\n",
    "dfs.replace({'Genderlabels':2}, 'Female', inplace=True)\n",
    "dfs.replace({'Genderlabels':3}, 'Genderqueer', inplace=True)\n",
    "dfs.replace({'Genderlabels':0}, None, inplace=True)"
   ]
  },
  {
   "cell_type": "markdown",
   "metadata": {},
   "source": [
    "__Add a column for continent__<br>\n",
    "This allows us to to filter by geographic area when comparing work hours or income"
   ]
  },
  {
   "cell_type": "code",
   "execution_count": 11,
   "metadata": {},
   "outputs": [],
   "source": [
    "dfs['Country'].reset_index(drop=True)\n",
    "countries = pd.Series(dfs['Country'])\n",
    "\n",
    "# accesses the first group match of a python regex\n",
    "repl = lambda m: m.group(1)\n",
    "# Strips Country names to the first word, ([a-z|A-Z]*)[,].*$ and remove some \n",
    "# special cases i.e. \"Venezuela, Bolivarian Republic of...'\" is changed to \n",
    "# \"Venezuela\"\n",
    "countries = countries.str.replace('([a-z|A-Z]*)[,].*$', repl, case=False)\n",
    "countries = countries.str.replace('Republic of Korea', 'North Korea', \n",
    "                                  case=True)\n",
    "countries = countries.str.replace('The former Yugoslav Republic of Macedonia', \n",
    "                                  'Macedonia', case=True)\n",
    "countries = countries.str.replace('Hong Kong (S.A.R.)', 'Hong Kong', \n",
    "                                  regex=False)\n",
    "\n",
    "# generate two arrays holding the country code and continent code\n",
    "country_code = []\n",
    "continent_code = []\n",
    "for x in np.arange(0,dfs.shape[0],1):\n",
    "    try:\n",
    "        country_code.append(pc.country_name_to_country_alpha2(\n",
    "            countries.iloc[x], cn_name_format=\"default\"))\n",
    "        continent_code.append(pc.country_alpha2_to_continent_code(\n",
    "            country_code[-1]))\n",
    "    except KeyError:\n",
    "        if countries.iloc[x] == 'Kosovo':\n",
    "            continent_code.append('EU')\n",
    "            country_code.append(None)\n",
    "        else:\n",
    "            country_code.append(None)\n",
    "            continent_code.append(None)\n",
    "\n",
    "# add country and continent code to the dataset\n",
    "dfs.insert(0, column='CountryCode', value=country_code)\n",
    "# remove country names - same information content as Country Code\n",
    "# dfs.drop(columns='Country', inplace=True)\n",
    "dfs.insert(0, column='Continent', value=continent_code)"
   ]
  },
  {
   "cell_type": "markdown",
   "metadata": {},
   "source": [
    "__Add a normalized income column__"
   ]
  },
  {
   "cell_type": "code",
   "execution_count": 12,
   "metadata": {},
   "outputs": [],
   "source": [
    "# calculate mean and standard deviation per continent and add it as column \n",
    "# to the dataframe\n",
    "means_stds = dfs.groupby('Continent')['ConvertedComp'].agg(['mean','std'])\n",
    "means_stds.reset_index()\n",
    "dfs = dfs.merge(means_stds, on='Continent')\n",
    "del means_stds\n",
    "\n",
    "# calculate the normalized compensation value per continent and add it in a \n",
    "# new column\n",
    "dfs['CComp_norm'] = (dfs['ConvertedComp'] - dfs['mean']) / dfs['std']\n",
    "\n",
    "# remove the added \"mean\" and \"std\" column from the dataframe\n",
    "dfs.drop(columns=['mean', 'std'], inplace=True)"
   ]
  },
  {
   "cell_type": "markdown",
   "metadata": {},
   "source": [
    "# Analyze, Model, and Visualize\n",
    "## Sanity check\n",
    "To verify whether we made some big errors in data cleaning or have outliers which massively distort the data, we look at the correlation values of the numeric columns.\n",
    "The results appear plausible at first glance:\n",
    "- Age and years of professional coding experience are highly and positively correlated, i.e. the older you are, the longer you coded professionally\n",
    "- Normalized income (ConvertedComp) and age as well as years of coding experience are moderately positively correlated, i.e. there is a tendency that you earn more the older you are and the longer you program professionally"
   ]
  },
  {
   "cell_type": "code",
   "execution_count": 13,
   "metadata": {},
   "outputs": [
    {
     "data": {
      "image/png": "[encoded data removed]",
      "text/plain": [
       "<Figure size 432x288 with 2 Axes>"
      ]
     },
     "metadata": {},
     "output_type": "display_data"
    }
   ],
   "source": [
    "sns.heatmap(\n",
    "    dfs[['Age', 'ConvertedComp', 'WorkWeekHrs', 'YearsCodePro']].corr(), \n",
    "    annot=True, fmt='.2g'\n",
    ")\n",
    "plt.savefig('Figures/CorrelationMatrix.png', bbox_inches='tight', \n",
    "            pad_inches=0.3)"
   ]
  },
  {
   "cell_type": "markdown",
   "metadata": {},
   "source": [
    "## Question: is it worth it (financially), doing a PhD?"
   ]
  },
  {
   "cell_type": "markdown",
   "metadata": {},
   "source": [
    "__Preprocessing__"
   ]
  },
  {
   "cell_type": "code",
   "execution_count": 14,
   "metadata": {},
   "outputs": [],
   "source": [
    "df = dfs.copy()\n",
    "# generate a copy of the filtered dataframe\n",
    "df = df.loc[df.Continent.isin(['EU','NA'])];\n",
    "df = df.loc[df.MainBranch == 'I am a developer by profession'];\n",
    "\n",
    "# filter out people working in academia as payment is usually regulated \n",
    "# differently than in a company for them\n",
    "df = df.loc[dfs['DevType_Academic researcher'] == 0];\n",
    "\n",
    "# we are only interested in the comparison of PhD vs. all other types of\n",
    "# higher / university education, we need to create a predictor column based\n",
    "# on the dummy columns (each contains only 0, 1 or NaN)\n",
    "df['PhD_vs_HigherEd'] =  df.HigherEd + df.EdLevel_Doctorate;\n",
    "\n",
    "# assign human-readable labels for plotting\n",
    "df.PhD_vs_HigherEd.replace({0:'no university Ed', 1:'Higher Ed', \n",
    "                            2:'Doctorate'}, inplace=True)"
   ]
  },
  {
   "cell_type": "markdown",
   "metadata": {},
   "source": [
    "__Exploratory Visualization__"
   ]
  },
  {
   "cell_type": "code",
   "execution_count": 15,
   "metadata": {},
   "outputs": [],
   "source": [
    "# deactivate inline plotting\n",
    "%matplotlib qt \n",
    "jg = sns.displot(data=df, x='ConvertedComp', hue='PhD_vs_HigherEd', \n",
    "            col='Continent', kind='ecdf')\n",
    "\n",
    "jg.set_xlabels(label = 'Compensation before taxes in USD');\n",
    "jg.set_ylabels(label = 'Proportion of data');\n",
    "\n",
    "jg.tight_layout()\n",
    "plt.show()\n",
    "plt.savefig('Figures/Salary_by_Education.png', bbox_inches='tight', \n",
    "            pad_inches=0.3)\n",
    "\n",
    "# reactivate inline plotting\n",
    "%matplotlib inline "
   ]
  },
  {
   "cell_type": "markdown",
   "metadata": {},
   "source": [
    "__Statistical Analysis__"
   ]
  },
  {
   "cell_type": "code",
   "execution_count": 16,
   "metadata": {},
   "outputs": [],
   "source": [
    "tdf = df[['ConvertedComp', 'PhD_vs_HigherEd', 'Continent', 'YearsCodePro']].copy()\n",
    "tdf = tdf.reset_index(drop=True)\n",
    "tdf['Subject'] = tdf.index\n",
    "tdf.dropna(how='any', axis=0, inplace=True)"
   ]
  },
  {
   "cell_type": "code",
   "execution_count": 17,
   "metadata": {},
   "outputs": [
    {
     "name": "stderr",
     "output_type": "stream",
     "text": [
      "/usr/local/anaconda3/lib/python3.8/site-packages/numpy/lib/function_base.py:393: RuntimeWarning: Mean of empty slice.\n",
      "  avg = a.mean(axis)\n",
      "/usr/local/anaconda3/lib/python3.8/site-packages/numpy/core/_methods.py:153: RuntimeWarning: invalid value encountered in true_divide\n",
      "  ret = um.true_divide(\n",
      "/usr/local/anaconda3/lib/python3.8/site-packages/pandas/core/frame.py:7605: RuntimeWarning: Degrees of freedom <= 0 for slice\n",
      "  baseCov = np.cov(mat.T)\n",
      "/usr/local/anaconda3/lib/python3.8/site-packages/numpy/lib/function_base.py:2455: RuntimeWarning: divide by zero encountered in true_divide\n",
      "  c *= np.true_divide(1, fact)\n",
      "/usr/local/anaconda3/lib/python3.8/site-packages/numpy/lib/function_base.py:2455: RuntimeWarning: invalid value encountered in multiply\n",
      "  c *= np.true_divide(1, fact)\n"
     ]
    },
    {
     "data": {
      "text/html": [
       "<div>\n",
       "<style scoped>\n",
       "    .dataframe tbody tr th:only-of-type {\n",
       "        vertical-align: middle;\n",
       "    }\n",
       "\n",
       "    .dataframe tbody tr th {\n",
       "        vertical-align: top;\n",
       "    }\n",
       "\n",
       "    .dataframe thead th {\n",
       "        text-align: right;\n",
       "    }\n",
       "</style>\n",
       "<table border=\"1\" class=\"dataframe\">\n",
       "  <thead>\n",
       "    <tr style=\"text-align: right;\">\n",
       "      <th></th>\n",
       "      <th>Source</th>\n",
       "      <th>SS</th>\n",
       "      <th>DF1</th>\n",
       "      <th>DF2</th>\n",
       "      <th>MS</th>\n",
       "      <th>F</th>\n",
       "      <th>p-unc</th>\n",
       "      <th>np2</th>\n",
       "      <th>eps</th>\n",
       "    </tr>\n",
       "  </thead>\n",
       "  <tbody>\n",
       "    <tr>\n",
       "      <th>0</th>\n",
       "      <td>PhD_vs_HigherEd</td>\n",
       "      <td>5.027725e+11</td>\n",
       "      <td>2</td>\n",
       "      <td>12378</td>\n",
       "      <td>2.513862e+11</td>\n",
       "      <td>14.299928</td>\n",
       "      <td>6.263017e-07</td>\n",
       "      <td>0.002305</td>\n",
       "      <td>NaN</td>\n",
       "    </tr>\n",
       "    <tr>\n",
       "      <th>1</th>\n",
       "      <td>Continent</td>\n",
       "      <td>1.123192e+13</td>\n",
       "      <td>1</td>\n",
       "      <td>12378</td>\n",
       "      <td>1.123192e+13</td>\n",
       "      <td>-1158.074226</td>\n",
       "      <td>1.000000e+00</td>\n",
       "      <td>-0.103216</td>\n",
       "      <td>1.0</td>\n",
       "    </tr>\n",
       "    <tr>\n",
       "      <th>2</th>\n",
       "      <td>Interaction</td>\n",
       "      <td>-2.315196e+11</td>\n",
       "      <td>2</td>\n",
       "      <td>12378</td>\n",
       "      <td>-1.157598e+11</td>\n",
       "      <td>11.935493</td>\n",
       "      <td>6.629383e-06</td>\n",
       "      <td>0.001925</td>\n",
       "      <td>NaN</td>\n",
       "    </tr>\n",
       "  </tbody>\n",
       "</table>\n",
       "</div>"
      ],
      "text/plain": [
       "            Source            SS  DF1    DF2            MS            F  \\\n",
       "0  PhD_vs_HigherEd  5.027725e+11    2  12378  2.513862e+11    14.299928   \n",
       "1        Continent  1.123192e+13    1  12378  1.123192e+13 -1158.074226   \n",
       "2      Interaction -2.315196e+11    2  12378 -1.157598e+11    11.935493   \n",
       "\n",
       "          p-unc       np2  eps  \n",
       "0  6.263017e-07  0.002305  NaN  \n",
       "1  1.000000e+00 -0.103216  1.0  \n",
       "2  6.629383e-06  0.001925  NaN  "
      ]
     },
     "execution_count": 17,
     "metadata": {},
     "output_type": "execute_result"
    }
   ],
   "source": [
    "mixed_anova(data=tdf, \n",
    "            dv='ConvertedComp', \n",
    "            within='Continent',\n",
    "            subject='Subject', \n",
    "            between='PhD_vs_HigherEd', \n",
    "            correction='auto')"
   ]
  },
  {
   "cell_type": "code",
   "execution_count": 18,
   "metadata": {},
   "outputs": [
    {
     "data": {
      "image/png": "[encoded data removed]",
      "text/plain": [
       "<Figure size 432x288 with 1 Axes>"
      ]
     },
     "metadata": {
      "needs_background": "light"
     },
     "output_type": "display_data"
    }
   ],
   "source": [
    "sns.pointplot(data=tdf, x='PhD_vs_HigherEd', y='ConvertedComp', \n",
    "              hue='Continent', dodge=True, markers=['o', 's'],\n",
    "              capsize=.1, errwidth=1, \n",
    "              order=['no university Ed', 'Higher Ed', 'Doctorate'],\n",
    "              ci = 90,\n",
    "              estimator=np.median)\n",
    "plt.xlabel('Highest level of education')\n",
    "plt.ylabel('Total Compensation before taxes in USD')\n",
    "plt.savefig('Figures/Salary_by_EducationLevel_Pointplot.png', \n",
    "            bbox_inches='tight', \n",
    "            pad_inches=0.3)"
   ]
  },
  {
   "cell_type": "code",
   "execution_count": 19,
   "metadata": {},
   "outputs": [
    {
     "data": {
      "image/png": "[encoded data removed]",
      "text/plain": [
       "<Figure size 432x288 with 1 Axes>"
      ]
     },
     "metadata": {
      "needs_background": "light"
     },
     "output_type": "display_data"
    }
   ],
   "source": [
    "sns.pointplot(data=tdf, x='PhD_vs_HigherEd', y='YearsCodePro', \n",
    "              hue='Continent', dodge=True, markers=['o', 's'],\n",
    "              capsize=.1, errwidth=1, \n",
    "              order=['no university Ed', 'Higher Ed', 'Doctorate'],\n",
    "              estimator=np.median)\n",
    "plt.xlabel('Highest level of education')\n",
    "plt.ylabel('Number of years coding professionally')\n",
    "plt.savefig('Figures/YearsCodePro_by_EducationLevel_Pointplot.png', \n",
    "            bbox_inches='tight', \n",
    "            pad_inches=0.3)"
   ]
  },
  {
   "cell_type": "code",
   "execution_count": 20,
   "metadata": {},
   "outputs": [
    {
     "name": "stderr",
     "output_type": "stream",
     "text": [
      "/usr/local/anaconda3/lib/python3.8/site-packages/numpy/lib/function_base.py:393: RuntimeWarning: Mean of empty slice.\n",
      "  avg = a.mean(axis)\n",
      "/usr/local/anaconda3/lib/python3.8/site-packages/numpy/core/_methods.py:153: RuntimeWarning: invalid value encountered in true_divide\n",
      "  ret = um.true_divide(\n",
      "/usr/local/anaconda3/lib/python3.8/site-packages/pandas/core/frame.py:7605: RuntimeWarning: Degrees of freedom <= 0 for slice\n",
      "  baseCov = np.cov(mat.T)\n",
      "/usr/local/anaconda3/lib/python3.8/site-packages/numpy/lib/function_base.py:2455: RuntimeWarning: divide by zero encountered in true_divide\n",
      "  c *= np.true_divide(1, fact)\n",
      "/usr/local/anaconda3/lib/python3.8/site-packages/numpy/lib/function_base.py:2455: RuntimeWarning: invalid value encountered in multiply\n",
      "  c *= np.true_divide(1, fact)\n"
     ]
    },
    {
     "data": {
      "text/html": [
       "<div>\n",
       "<style scoped>\n",
       "    .dataframe tbody tr th:only-of-type {\n",
       "        vertical-align: middle;\n",
       "    }\n",
       "\n",
       "    .dataframe tbody tr th {\n",
       "        vertical-align: top;\n",
       "    }\n",
       "\n",
       "    .dataframe thead th {\n",
       "        text-align: right;\n",
       "    }\n",
       "</style>\n",
       "<table border=\"1\" class=\"dataframe\">\n",
       "  <thead>\n",
       "    <tr style=\"text-align: right;\">\n",
       "      <th></th>\n",
       "      <th>Source</th>\n",
       "      <th>SS</th>\n",
       "      <th>DF1</th>\n",
       "      <th>DF2</th>\n",
       "      <th>MS</th>\n",
       "      <th>F</th>\n",
       "      <th>p-unc</th>\n",
       "      <th>np2</th>\n",
       "      <th>eps</th>\n",
       "    </tr>\n",
       "  </thead>\n",
       "  <tbody>\n",
       "    <tr>\n",
       "      <th>0</th>\n",
       "      <td>PhD_vs_HigherEd</td>\n",
       "      <td>2620.762521</td>\n",
       "      <td>2</td>\n",
       "      <td>12378</td>\n",
       "      <td>1310.381261</td>\n",
       "      <td>8.529000</td>\n",
       "      <td>0.000199</td>\n",
       "      <td>0.001376</td>\n",
       "      <td>NaN</td>\n",
       "    </tr>\n",
       "    <tr>\n",
       "      <th>1</th>\n",
       "      <td>Continent</td>\n",
       "      <td>2858.558602</td>\n",
       "      <td>1</td>\n",
       "      <td>12378</td>\n",
       "      <td>2858.558602</td>\n",
       "      <td>-36.995970</td>\n",
       "      <td>1.000000</td>\n",
       "      <td>-0.002998</td>\n",
       "      <td>1.0</td>\n",
       "    </tr>\n",
       "    <tr>\n",
       "      <th>2</th>\n",
       "      <td>Interaction</td>\n",
       "      <td>1371.439611</td>\n",
       "      <td>2</td>\n",
       "      <td>12378</td>\n",
       "      <td>685.719805</td>\n",
       "      <td>-8.874707</td>\n",
       "      <td>1.000000</td>\n",
       "      <td>-0.001436</td>\n",
       "      <td>NaN</td>\n",
       "    </tr>\n",
       "  </tbody>\n",
       "</table>\n",
       "</div>"
      ],
      "text/plain": [
       "            Source           SS  DF1    DF2           MS          F     p-unc  \\\n",
       "0  PhD_vs_HigherEd  2620.762521    2  12378  1310.381261   8.529000  0.000199   \n",
       "1        Continent  2858.558602    1  12378  2858.558602 -36.995970  1.000000   \n",
       "2      Interaction  1371.439611    2  12378   685.719805  -8.874707  1.000000   \n",
       "\n",
       "        np2  eps  \n",
       "0  0.001376  NaN  \n",
       "1 -0.002998  1.0  \n",
       "2 -0.001436  NaN  "
      ]
     },
     "execution_count": 20,
     "metadata": {},
     "output_type": "execute_result"
    }
   ],
   "source": [
    "mixed_anova(data=tdf, \n",
    "            dv='YearsCodePro', \n",
    "            within='Continent',\n",
    "            subject='Subject', \n",
    "            between='PhD_vs_HigherEd', \n",
    "            correction='auto')"
   ]
  },
  {
   "cell_type": "markdown",
   "metadata": {},
   "source": [
    "## Question: is there a difference in income by continent?\n",
    "### Visualize the distribution of income by continent\n",
    "There appears to be a difference in central tendency for the distributions, indicating lower income in Asia, South America and Africa as opposed to Europe and North America. Of course there might be confounding factors such as different numbers of participants, age groups, developer types which cannot all be exluded from analysis."
   ]
  },
  {
   "cell_type": "code",
   "execution_count": 21,
   "metadata": {},
   "outputs": [
    {
     "data": {
      "image/png": "[encoded data removed]",
      "text/plain": [
       "<Figure size 411.125x360 with 1 Axes>"
      ]
     },
     "metadata": {
      "needs_background": "light"
     },
     "output_type": "display_data"
    }
   ],
   "source": [
    "# plot the distribution as density estimate\n",
    "plottype='ecdf'\n",
    "filename = 'Figures/Compensation_by_Continent_' + plottype + '.png'\n",
    "\n",
    "sns.displot(data=dfs, x='ConvertedComp', hue='Continent', \n",
    "            kind=plottype)\n",
    "plt.xlabel('Compensation total (incl. bonuses) converted to US Dollar')\n",
    "plt.savefig(filename, bbox_inches='tight', pad_inches=0.1)"
   ]
  },
  {
   "cell_type": "code",
   "execution_count": 22,
   "metadata": {},
   "outputs": [
    {
     "data": {
      "image/png": "[encoded data removed]",
      "text/plain": [
       "<Figure size 432x288 with 1 Axes>"
      ]
     },
     "metadata": {
      "needs_background": "light"
     },
     "output_type": "display_data"
    }
   ],
   "source": [
    "# if you'd rather look at a boxplot\n",
    "df = dfs[['ConvertedComp', 'Continent']].copy()\n",
    "df = pd.melt(df.reset_index(), id_vars=['Continent'], \n",
    "                  value_vars=['ConvertedComp'])\n",
    "\n",
    "sns.boxplot(x='Continent', y='value', data=df, color='#99c2a2')\n",
    "filename = 'Figures/Salary_by_Continent_boxplot.png'\n",
    "plt.ylabel('Compensation total in US Dollar')\n",
    "\n",
    "plt.savefig(filename, bbox_inches='tight')\n",
    "del df, filename"
   ]
  },
  {
   "cell_type": "markdown",
   "metadata": {},
   "source": [
    "### Perform statistical tests\n",
    "As the data does not look normally distributed, choose a nonparametric alternative to a two-way ANOVA.\n",
    "In this case, the Kruskal-Wallis test is used because there are more than two levels, i.e. continents, of the independent variable and the data are from independent samples, i.e. each income value is from different people participating in the survey\n",
    "\n",
    "Do Mann-Whitney tests for some pairwise comparisons of interest. \n",
    "We need to correct alpha for the number of tests we are doing, here using Bonferroni-correction for multiple comparisons."
   ]
  },
  {
   "cell_type": "markdown",
   "metadata": {},
   "source": [
    "__Functions used for test preparation (imported from Preprocessing_Functions.py)__\n",
    "<ol>\n",
    "    <li>generate_test_values_matrix : takes strings for factor / independent variable (X) and dependent variable (y) and generates a test matrix of size (nsamples x factor-levels) used for statistical testing.</li>\n",
    "    <li>do_np_post_hoc_tests : does nonparametric pairwise comparisons for the combinations of columns in an (nsamples x factor-levels) test matrix listed in <i>indices</i></li>\n",
    "</ol>"
   ]
  },
  {
   "cell_type": "code",
   "execution_count": 23,
   "metadata": {},
   "outputs": [
    {
     "name": "stdout",
     "output_type": "stream",
     "text": [
      "Number of observations for  AF =  877\n",
      "Number of observations for  AS =  5837\n",
      "Number of observations for  EU =  14310\n",
      "Number of observations for  NA =  9032\n",
      "Number of observations for  OC =  870\n",
      "Number of observations for  SA =  1854\n",
      "P value of Kruskal-Wallis H-Test:  0.0\n",
      "H statistic of Kruskal-Wallis Test: 13093.603488072049\n"
     ]
    }
   ],
   "source": [
    "t_labels, t_vals, df_test = generate_test_values_matrix(\n",
    "    data = dfs, y='ConvertedComp', str_X='Continent')\n",
    "\n",
    "# as the data does not look normally distributed, due to the long tails, \n",
    "# we need to revert to the nonparametric alternative to a two-way ANOVA, e.g. \n",
    "# a Kruskal-Wallis Test\n",
    "statistic, pvalue = stats.kruskal(*t_vals, nan_policy='omit')\n",
    "print('P value of Kruskal-Wallis H-Test: ', pvalue)\n",
    "print('H statistic of Kruskal-Wallis Test:', statistic)"
   ]
  },
  {
   "cell_type": "code",
   "execution_count": 24,
   "metadata": {},
   "outputs": [
    {
     "name": "stdout",
     "output_type": "stream",
     "text": [
      "Alpha value after Bonferroni correction:  0.0033333333333333335 \n",
      "\n"
     ]
    },
    {
     "data": {
      "text/html": [
       "<div>\n",
       "<style scoped>\n",
       "    .dataframe tbody tr th:only-of-type {\n",
       "        vertical-align: middle;\n",
       "    }\n",
       "\n",
       "    .dataframe tbody tr th {\n",
       "        vertical-align: top;\n",
       "    }\n",
       "\n",
       "    .dataframe thead th {\n",
       "        text-align: right;\n",
       "    }\n",
       "</style>\n",
       "<table border=\"1\" class=\"dataframe\">\n",
       "  <thead>\n",
       "    <tr style=\"text-align: right;\">\n",
       "      <th></th>\n",
       "      <th>label</th>\n",
       "      <th>Pval</th>\n",
       "      <th>U-stat</th>\n",
       "      <th>is_significant</th>\n",
       "    </tr>\n",
       "  </thead>\n",
       "  <tbody>\n",
       "    <tr>\n",
       "      <th>0</th>\n",
       "      <td>AF vs. AS</td>\n",
       "      <td>1.435478e-01</td>\n",
       "      <td>2502550.0</td>\n",
       "      <td>False</td>\n",
       "    </tr>\n",
       "    <tr>\n",
       "      <th>1</th>\n",
       "      <td>AF vs. EU</td>\n",
       "      <td>8.366131e-220</td>\n",
       "      <td>2289227.5</td>\n",
       "      <td>True</td>\n",
       "    </tr>\n",
       "    <tr>\n",
       "      <th>2</th>\n",
       "      <td>AF vs. NA</td>\n",
       "      <td>0.000000e+00</td>\n",
       "      <td>615021.5</td>\n",
       "      <td>True</td>\n",
       "    </tr>\n",
       "    <tr>\n",
       "      <th>3</th>\n",
       "      <td>AF vs. OC</td>\n",
       "      <td>4.943716e-192</td>\n",
       "      <td>70119.0</td>\n",
       "      <td>True</td>\n",
       "    </tr>\n",
       "    <tr>\n",
       "      <th>4</th>\n",
       "      <td>AF vs. SA</td>\n",
       "      <td>8.511964e-08</td>\n",
       "      <td>712370.5</td>\n",
       "      <td>True</td>\n",
       "    </tr>\n",
       "    <tr>\n",
       "      <th>5</th>\n",
       "      <td>AS vs. EU</td>\n",
       "      <td>0.000000e+00</td>\n",
       "      <td>16536235.5</td>\n",
       "      <td>True</td>\n",
       "    </tr>\n",
       "    <tr>\n",
       "      <th>6</th>\n",
       "      <td>AS vs. NA</td>\n",
       "      <td>0.000000e+00</td>\n",
       "      <td>5331846.5</td>\n",
       "      <td>True</td>\n",
       "    </tr>\n",
       "    <tr>\n",
       "      <th>7</th>\n",
       "      <td>AS vs. OC</td>\n",
       "      <td>3.808651e-289</td>\n",
       "      <td>603952.5</td>\n",
       "      <td>True</td>\n",
       "    </tr>\n",
       "    <tr>\n",
       "      <th>8</th>\n",
       "      <td>AS vs. SA</td>\n",
       "      <td>1.968252e-13</td>\n",
       "      <td>4806424.5</td>\n",
       "      <td>True</td>\n",
       "    </tr>\n",
       "    <tr>\n",
       "      <th>9</th>\n",
       "      <td>EU vs. NA</td>\n",
       "      <td>0.000000e+00</td>\n",
       "      <td>27852710.0</td>\n",
       "      <td>True</td>\n",
       "    </tr>\n",
       "    <tr>\n",
       "      <th>10</th>\n",
       "      <td>EU vs. OC</td>\n",
       "      <td>6.436190e-82</td>\n",
       "      <td>3823440.5</td>\n",
       "      <td>True</td>\n",
       "    </tr>\n",
       "    <tr>\n",
       "      <th>11</th>\n",
       "      <td>EU vs. SA</td>\n",
       "      <td>0.000000e+00</td>\n",
       "      <td>4459367.5</td>\n",
       "      <td>True</td>\n",
       "    </tr>\n",
       "    <tr>\n",
       "      <th>12</th>\n",
       "      <td>NA vs. OC</td>\n",
       "      <td>5.064862e-60</td>\n",
       "      <td>2616545.5</td>\n",
       "      <td>True</td>\n",
       "    </tr>\n",
       "    <tr>\n",
       "      <th>13</th>\n",
       "      <td>NA vs. SA</td>\n",
       "      <td>0.000000e+00</td>\n",
       "      <td>1109442.0</td>\n",
       "      <td>True</td>\n",
       "    </tr>\n",
       "    <tr>\n",
       "      <th>14</th>\n",
       "      <td>OC vs. SA</td>\n",
       "      <td>7.629857e-292</td>\n",
       "      <td>108118.0</td>\n",
       "      <td>True</td>\n",
       "    </tr>\n",
       "  </tbody>\n",
       "</table>\n",
       "</div>"
      ],
      "text/plain": [
       "        label           Pval      U-stat is_significant\n",
       "0   AF vs. AS   1.435478e-01   2502550.0          False\n",
       "1   AF vs. EU  8.366131e-220   2289227.5           True\n",
       "2   AF vs. NA   0.000000e+00    615021.5           True\n",
       "3   AF vs. OC  4.943716e-192     70119.0           True\n",
       "4   AF vs. SA   8.511964e-08    712370.5           True\n",
       "5   AS vs. EU   0.000000e+00  16536235.5           True\n",
       "6   AS vs. NA   0.000000e+00   5331846.5           True\n",
       "7   AS vs. OC  3.808651e-289    603952.5           True\n",
       "8   AS vs. SA   1.968252e-13   4806424.5           True\n",
       "9   EU vs. NA   0.000000e+00  27852710.0           True\n",
       "10  EU vs. OC   6.436190e-82   3823440.5           True\n",
       "11  EU vs. SA   0.000000e+00   4459367.5           True\n",
       "12  NA vs. OC   5.064862e-60   2616545.5           True\n",
       "13  NA vs. SA   0.000000e+00   1109442.0           True\n",
       "14  OC vs. SA  7.629857e-292    108118.0           True"
      ]
     },
     "execution_count": 24,
     "metadata": {},
     "output_type": "execute_result"
    }
   ],
   "source": [
    "## Calculate the post-hoc tests for the Kruskal-Wallis test\n",
    "\n",
    "# get all possible group combinations\n",
    "comb = itertools.combinations(np.arange(0,len(t_labels)), 2)\n",
    "indices = [i for i in comb]\n",
    "labels = [t_labels[i[0]] + ' vs. ' + t_labels[i[1]] for i in indices]\n",
    "\n",
    "do_np_post_hoc_tests(t_vals, labels, indices, 0.05, True)\n",
    "\n",
    "# clear variables we no longer need\n",
    "# del labels, indices, t_vals, t_labels, statistic, pvalue, df_test"
   ]
  },
  {
   "cell_type": "markdown",
   "metadata": {},
   "source": [
    "## Question: Does income in Europe and North America depend on the size of the organisation?\n",
    "Transform labels in the OrgSize column to make it more readable"
   ]
  },
  {
   "cell_type": "code",
   "execution_count": 25,
   "metadata": {},
   "outputs": [],
   "source": [
    "# ------ Shorten labels in OrgSize to make plots readable -------\n",
    "df = dfs.copy()\n",
    "df.OrgSize = df.OrgSize.str.replace(' employees','')\n",
    "df.OrgSize = df.OrgSize.str.replace(' - I am a freelancer, sole proprietor, etc.','')\n",
    "\n",
    "# specify custom sort order for column 'OrgSize', else strings are sorted by\n",
    "# the first character.\n",
    "org_sizes = ['Just me', '2 to 9', '10 to 19', '20 to 99', '100 to 499', \n",
    "             '500 to 999', '1,000 to 4,999', '5,000 to 9,999', \n",
    "             '10,000 or more']\n",
    "\n",
    "# as the function astype no longer accepts multiple arguments, \n",
    "# first generate a data type object with the desired properties\n",
    "org_size_dtype = pd.api.types.CategoricalDtype(categories=org_sizes, \n",
    "                                               ordered=True)\n",
    "df = df.astype({'OrgSize':org_size_dtype})\n",
    "\n",
    "# delete variables that are no longer needed\n",
    "del org_size_dtype, org_sizes"
   ]
  },
  {
   "cell_type": "code",
   "execution_count": 26,
   "metadata": {},
   "outputs": [
    {
     "data": {
      "text/html": [
       "<style  type=\"text/css\" >\n",
       "</style><table id=\"T_7a658702_4e6a_11eb_b2aa_3c15c2d14e7e\" ><thead>    <tr>        <th class=\"blank\" ></th>        <th class=\"blank level0\" ></th>        <th class=\"col_heading level0 col0\" >mean</th>        <th class=\"col_heading level0 col1\" >std</th>        <th class=\"col_heading level0 col2\" >min</th>        <th class=\"col_heading level0 col3\" >max</th>    </tr>    <tr>        <th class=\"index_name level0\" >OrgSize</th>        <th class=\"index_name level1\" >NA_EU</th>        <th class=\"blank\" ></th>        <th class=\"blank\" ></th>        <th class=\"blank\" ></th>        <th class=\"blank\" ></th>    </tr></thead><tbody>\n",
       "                <tr>\n",
       "                        <th id=\"T_7a658702_4e6a_11eb_b2aa_3c15c2d14e7elevel0_row0\" class=\"row_heading level0 row0\" rowspan=2>Just me</th>\n",
       "                        <th id=\"T_7a658702_4e6a_11eb_b2aa_3c15c2d14e7elevel1_row0\" class=\"row_heading level1 row0\" >EU</th>\n",
       "                        <td id=\"T_7a658702_4e6a_11eb_b2aa_3c15c2d14e7erow0_col0\" class=\"data row0 col0\" >75,820</td>\n",
       "                        <td id=\"T_7a658702_4e6a_11eb_b2aa_3c15c2d14e7erow0_col1\" class=\"data row0 col1\" >64,012</td>\n",
       "                        <td id=\"T_7a658702_4e6a_11eb_b2aa_3c15c2d14e7erow0_col2\" class=\"data row0 col2\" >0</td>\n",
       "                        <td id=\"T_7a658702_4e6a_11eb_b2aa_3c15c2d14e7erow0_col3\" class=\"data row0 col3\" >583,728</td>\n",
       "            </tr>\n",
       "            <tr>\n",
       "                                <th id=\"T_7a658702_4e6a_11eb_b2aa_3c15c2d14e7elevel1_row1\" class=\"row_heading level1 row1\" >NA</th>\n",
       "                        <td id=\"T_7a658702_4e6a_11eb_b2aa_3c15c2d14e7erow1_col0\" class=\"data row1 col0\" >97,277</td>\n",
       "                        <td id=\"T_7a658702_4e6a_11eb_b2aa_3c15c2d14e7erow1_col1\" class=\"data row1 col1\" >88,625</td>\n",
       "                        <td id=\"T_7a658702_4e6a_11eb_b2aa_3c15c2d14e7erow1_col2\" class=\"data row1 col2\" >0</td>\n",
       "                        <td id=\"T_7a658702_4e6a_11eb_b2aa_3c15c2d14e7erow1_col3\" class=\"data row1 col3\" >500,000</td>\n",
       "            </tr>\n",
       "            <tr>\n",
       "                        <th id=\"T_7a658702_4e6a_11eb_b2aa_3c15c2d14e7elevel0_row2\" class=\"row_heading level0 row2\" rowspan=2>2 to 9</th>\n",
       "                        <th id=\"T_7a658702_4e6a_11eb_b2aa_3c15c2d14e7elevel1_row2\" class=\"row_heading level1 row2\" >EU</th>\n",
       "                        <td id=\"T_7a658702_4e6a_11eb_b2aa_3c15c2d14e7erow2_col0\" class=\"data row2 col0\" >54,138</td>\n",
       "                        <td id=\"T_7a658702_4e6a_11eb_b2aa_3c15c2d14e7erow2_col1\" class=\"data row2 col1\" >64,026</td>\n",
       "                        <td id=\"T_7a658702_4e6a_11eb_b2aa_3c15c2d14e7erow2_col2\" class=\"data row2 col2\" >0</td>\n",
       "                        <td id=\"T_7a658702_4e6a_11eb_b2aa_3c15c2d14e7erow2_col3\" class=\"data row2 col3\" >596,700</td>\n",
       "            </tr>\n",
       "            <tr>\n",
       "                                <th id=\"T_7a658702_4e6a_11eb_b2aa_3c15c2d14e7elevel1_row3\" class=\"row_heading level1 row3\" >NA</th>\n",
       "                        <td id=\"T_7a658702_4e6a_11eb_b2aa_3c15c2d14e7erow3_col0\" class=\"data row3 col0\" >84,537</td>\n",
       "                        <td id=\"T_7a658702_4e6a_11eb_b2aa_3c15c2d14e7erow3_col1\" class=\"data row3 col1\" >73,108</td>\n",
       "                        <td id=\"T_7a658702_4e6a_11eb_b2aa_3c15c2d14e7erow3_col2\" class=\"data row3 col2\" >0</td>\n",
       "                        <td id=\"T_7a658702_4e6a_11eb_b2aa_3c15c2d14e7erow3_col3\" class=\"data row3 col3\" >600,000</td>\n",
       "            </tr>\n",
       "            <tr>\n",
       "                        <th id=\"T_7a658702_4e6a_11eb_b2aa_3c15c2d14e7elevel0_row4\" class=\"row_heading level0 row4\" rowspan=2>10 to 19</th>\n",
       "                        <th id=\"T_7a658702_4e6a_11eb_b2aa_3c15c2d14e7elevel1_row4\" class=\"row_heading level1 row4\" >EU</th>\n",
       "                        <td id=\"T_7a658702_4e6a_11eb_b2aa_3c15c2d14e7erow4_col0\" class=\"data row4 col0\" >58,545</td>\n",
       "                        <td id=\"T_7a658702_4e6a_11eb_b2aa_3c15c2d14e7erow4_col1\" class=\"data row4 col1\" >78,467</td>\n",
       "                        <td id=\"T_7a658702_4e6a_11eb_b2aa_3c15c2d14e7erow4_col2\" class=\"data row4 col2\" >0</td>\n",
       "                        <td id=\"T_7a658702_4e6a_11eb_b2aa_3c15c2d14e7erow4_col3\" class=\"data row4 col3\" >613,656</td>\n",
       "            </tr>\n",
       "            <tr>\n",
       "                                <th id=\"T_7a658702_4e6a_11eb_b2aa_3c15c2d14e7elevel1_row5\" class=\"row_heading level1 row5\" >NA</th>\n",
       "                        <td id=\"T_7a658702_4e6a_11eb_b2aa_3c15c2d14e7erow5_col0\" class=\"data row5 col0\" >92,104</td>\n",
       "                        <td id=\"T_7a658702_4e6a_11eb_b2aa_3c15c2d14e7erow5_col1\" class=\"data row5 col1\" >64,952</td>\n",
       "                        <td id=\"T_7a658702_4e6a_11eb_b2aa_3c15c2d14e7erow5_col2\" class=\"data row5 col2\" >65</td>\n",
       "                        <td id=\"T_7a658702_4e6a_11eb_b2aa_3c15c2d14e7erow5_col3\" class=\"data row5 col3\" >544,548</td>\n",
       "            </tr>\n",
       "            <tr>\n",
       "                        <th id=\"T_7a658702_4e6a_11eb_b2aa_3c15c2d14e7elevel0_row6\" class=\"row_heading level0 row6\" rowspan=2>20 to 99</th>\n",
       "                        <th id=\"T_7a658702_4e6a_11eb_b2aa_3c15c2d14e7elevel1_row6\" class=\"row_heading level1 row6\" >EU</th>\n",
       "                        <td id=\"T_7a658702_4e6a_11eb_b2aa_3c15c2d14e7erow6_col0\" class=\"data row6 col0\" >60,060</td>\n",
       "                        <td id=\"T_7a658702_4e6a_11eb_b2aa_3c15c2d14e7erow6_col1\" class=\"data row6 col1\" >69,154</td>\n",
       "                        <td id=\"T_7a658702_4e6a_11eb_b2aa_3c15c2d14e7erow6_col2\" class=\"data row6 col2\" >0</td>\n",
       "                        <td id=\"T_7a658702_4e6a_11eb_b2aa_3c15c2d14e7erow6_col3\" class=\"data row6 col3\" >612,912</td>\n",
       "            </tr>\n",
       "            <tr>\n",
       "                                <th id=\"T_7a658702_4e6a_11eb_b2aa_3c15c2d14e7elevel1_row7\" class=\"row_heading level1 row7\" >NA</th>\n",
       "                        <td id=\"T_7a658702_4e6a_11eb_b2aa_3c15c2d14e7erow7_col0\" class=\"data row7 col0\" >96,790</td>\n",
       "                        <td id=\"T_7a658702_4e6a_11eb_b2aa_3c15c2d14e7erow7_col1\" class=\"data row7 col1\" >57,182</td>\n",
       "                        <td id=\"T_7a658702_4e6a_11eb_b2aa_3c15c2d14e7erow7_col2\" class=\"data row7 col2\" >0</td>\n",
       "                        <td id=\"T_7a658702_4e6a_11eb_b2aa_3c15c2d14e7erow7_col3\" class=\"data row7 col3\" >589,920</td>\n",
       "            </tr>\n",
       "            <tr>\n",
       "                        <th id=\"T_7a658702_4e6a_11eb_b2aa_3c15c2d14e7elevel0_row8\" class=\"row_heading level0 row8\" rowspan=2>100 to 499</th>\n",
       "                        <th id=\"T_7a658702_4e6a_11eb_b2aa_3c15c2d14e7elevel1_row8\" class=\"row_heading level1 row8\" >EU</th>\n",
       "                        <td id=\"T_7a658702_4e6a_11eb_b2aa_3c15c2d14e7erow8_col0\" class=\"data row8 col0\" >62,078</td>\n",
       "                        <td id=\"T_7a658702_4e6a_11eb_b2aa_3c15c2d14e7erow8_col1\" class=\"data row8 col1\" >68,204</td>\n",
       "                        <td id=\"T_7a658702_4e6a_11eb_b2aa_3c15c2d14e7erow8_col2\" class=\"data row8 col2\" >0</td>\n",
       "                        <td id=\"T_7a658702_4e6a_11eb_b2aa_3c15c2d14e7erow8_col3\" class=\"data row8 col3\" >608,532</td>\n",
       "            </tr>\n",
       "            <tr>\n",
       "                                <th id=\"T_7a658702_4e6a_11eb_b2aa_3c15c2d14e7elevel1_row9\" class=\"row_heading level1 row9\" >NA</th>\n",
       "                        <td id=\"T_7a658702_4e6a_11eb_b2aa_3c15c2d14e7erow9_col0\" class=\"data row9 col0\" >105,518</td>\n",
       "                        <td id=\"T_7a658702_4e6a_11eb_b2aa_3c15c2d14e7erow9_col1\" class=\"data row9 col1\" >53,656</td>\n",
       "                        <td id=\"T_7a658702_4e6a_11eb_b2aa_3c15c2d14e7erow9_col2\" class=\"data row9 col2\" >0</td>\n",
       "                        <td id=\"T_7a658702_4e6a_11eb_b2aa_3c15c2d14e7erow9_col3\" class=\"data row9 col3\" >576,000</td>\n",
       "            </tr>\n",
       "            <tr>\n",
       "                        <th id=\"T_7a658702_4e6a_11eb_b2aa_3c15c2d14e7elevel0_row10\" class=\"row_heading level0 row10\" rowspan=2>500 to 999</th>\n",
       "                        <th id=\"T_7a658702_4e6a_11eb_b2aa_3c15c2d14e7elevel1_row10\" class=\"row_heading level1 row10\" >EU</th>\n",
       "                        <td id=\"T_7a658702_4e6a_11eb_b2aa_3c15c2d14e7erow10_col0\" class=\"data row10 col0\" >61,128</td>\n",
       "                        <td id=\"T_7a658702_4e6a_11eb_b2aa_3c15c2d14e7erow10_col1\" class=\"data row10 col1\" >63,131</td>\n",
       "                        <td id=\"T_7a658702_4e6a_11eb_b2aa_3c15c2d14e7erow10_col2\" class=\"data row10 col2\" >24</td>\n",
       "                        <td id=\"T_7a658702_4e6a_11eb_b2aa_3c15c2d14e7erow10_col3\" class=\"data row10 col3\" >609,672</td>\n",
       "            </tr>\n",
       "            <tr>\n",
       "                                <th id=\"T_7a658702_4e6a_11eb_b2aa_3c15c2d14e7elevel1_row11\" class=\"row_heading level1 row11\" >NA</th>\n",
       "                        <td id=\"T_7a658702_4e6a_11eb_b2aa_3c15c2d14e7erow11_col0\" class=\"data row11 col0\" >104,199</td>\n",
       "                        <td id=\"T_7a658702_4e6a_11eb_b2aa_3c15c2d14e7erow11_col1\" class=\"data row11 col1\" >50,853</td>\n",
       "                        <td id=\"T_7a658702_4e6a_11eb_b2aa_3c15c2d14e7erow11_col2\" class=\"data row11 col2\" >72</td>\n",
       "                        <td id=\"T_7a658702_4e6a_11eb_b2aa_3c15c2d14e7erow11_col3\" class=\"data row11 col3\" >400,000</td>\n",
       "            </tr>\n",
       "            <tr>\n",
       "                        <th id=\"T_7a658702_4e6a_11eb_b2aa_3c15c2d14e7elevel0_row12\" class=\"row_heading level0 row12\" rowspan=2>1,000 to 4,999</th>\n",
       "                        <th id=\"T_7a658702_4e6a_11eb_b2aa_3c15c2d14e7elevel1_row12\" class=\"row_heading level1 row12\" >EU</th>\n",
       "                        <td id=\"T_7a658702_4e6a_11eb_b2aa_3c15c2d14e7erow12_col0\" class=\"data row12 col0\" >67,449</td>\n",
       "                        <td id=\"T_7a658702_4e6a_11eb_b2aa_3c15c2d14e7erow12_col1\" class=\"data row12 col1\" >64,683</td>\n",
       "                        <td id=\"T_7a658702_4e6a_11eb_b2aa_3c15c2d14e7erow12_col2\" class=\"data row12 col2\" >0</td>\n",
       "                        <td id=\"T_7a658702_4e6a_11eb_b2aa_3c15c2d14e7erow12_col3\" class=\"data row12 col3\" >604,932</td>\n",
       "            </tr>\n",
       "            <tr>\n",
       "                                <th id=\"T_7a658702_4e6a_11eb_b2aa_3c15c2d14e7elevel1_row13\" class=\"row_heading level1 row13\" >NA</th>\n",
       "                        <td id=\"T_7a658702_4e6a_11eb_b2aa_3c15c2d14e7erow13_col0\" class=\"data row13 col0\" >120,315</td>\n",
       "                        <td id=\"T_7a658702_4e6a_11eb_b2aa_3c15c2d14e7erow13_col1\" class=\"data row13 col1\" >72,778</td>\n",
       "                        <td id=\"T_7a658702_4e6a_11eb_b2aa_3c15c2d14e7erow13_col2\" class=\"data row13 col2\" >0</td>\n",
       "                        <td id=\"T_7a658702_4e6a_11eb_b2aa_3c15c2d14e7erow13_col3\" class=\"data row13 col3\" >600,000</td>\n",
       "            </tr>\n",
       "            <tr>\n",
       "                        <th id=\"T_7a658702_4e6a_11eb_b2aa_3c15c2d14e7elevel0_row14\" class=\"row_heading level0 row14\" rowspan=2>5,000 to 9,999</th>\n",
       "                        <th id=\"T_7a658702_4e6a_11eb_b2aa_3c15c2d14e7elevel1_row14\" class=\"row_heading level1 row14\" >EU</th>\n",
       "                        <td id=\"T_7a658702_4e6a_11eb_b2aa_3c15c2d14e7erow14_col0\" class=\"data row14 col0\" >66,089</td>\n",
       "                        <td id=\"T_7a658702_4e6a_11eb_b2aa_3c15c2d14e7erow14_col1\" class=\"data row14 col1\" >66,909</td>\n",
       "                        <td id=\"T_7a658702_4e6a_11eb_b2aa_3c15c2d14e7erow14_col2\" class=\"data row14 col2\" >30</td>\n",
       "                        <td id=\"T_7a658702_4e6a_11eb_b2aa_3c15c2d14e7erow14_col3\" class=\"data row14 col3\" >583,728</td>\n",
       "            </tr>\n",
       "            <tr>\n",
       "                                <th id=\"T_7a658702_4e6a_11eb_b2aa_3c15c2d14e7elevel1_row15\" class=\"row_heading level1 row15\" >NA</th>\n",
       "                        <td id=\"T_7a658702_4e6a_11eb_b2aa_3c15c2d14e7erow15_col0\" class=\"data row15 col0\" >121,514</td>\n",
       "                        <td id=\"T_7a658702_4e6a_11eb_b2aa_3c15c2d14e7erow15_col1\" class=\"data row15 col1\" >77,515</td>\n",
       "                        <td id=\"T_7a658702_4e6a_11eb_b2aa_3c15c2d14e7erow15_col2\" class=\"data row15 col2\" >0</td>\n",
       "                        <td id=\"T_7a658702_4e6a_11eb_b2aa_3c15c2d14e7erow15_col3\" class=\"data row15 col3\" >600,000</td>\n",
       "            </tr>\n",
       "            <tr>\n",
       "                        <th id=\"T_7a658702_4e6a_11eb_b2aa_3c15c2d14e7elevel0_row16\" class=\"row_heading level0 row16\" rowspan=2>10,000 or more</th>\n",
       "                        <th id=\"T_7a658702_4e6a_11eb_b2aa_3c15c2d14e7elevel1_row16\" class=\"row_heading level1 row16\" >EU</th>\n",
       "                        <td id=\"T_7a658702_4e6a_11eb_b2aa_3c15c2d14e7erow16_col0\" class=\"data row16 col0\" >75,088</td>\n",
       "                        <td id=\"T_7a658702_4e6a_11eb_b2aa_3c15c2d14e7erow16_col1\" class=\"data row16 col1\" >71,300</td>\n",
       "                        <td id=\"T_7a658702_4e6a_11eb_b2aa_3c15c2d14e7erow16_col2\" class=\"data row16 col2\" >0</td>\n",
       "                        <td id=\"T_7a658702_4e6a_11eb_b2aa_3c15c2d14e7erow16_col3\" class=\"data row16 col3\" >603,192</td>\n",
       "            </tr>\n",
       "            <tr>\n",
       "                                <th id=\"T_7a658702_4e6a_11eb_b2aa_3c15c2d14e7elevel1_row17\" class=\"row_heading level1 row17\" >NA</th>\n",
       "                        <td id=\"T_7a658702_4e6a_11eb_b2aa_3c15c2d14e7erow17_col0\" class=\"data row17 col0\" >138,009</td>\n",
       "                        <td id=\"T_7a658702_4e6a_11eb_b2aa_3c15c2d14e7erow17_col1\" class=\"data row17 col1\" >85,170</td>\n",
       "                        <td id=\"T_7a658702_4e6a_11eb_b2aa_3c15c2d14e7erow17_col2\" class=\"data row17 col2\" >0</td>\n",
       "                        <td id=\"T_7a658702_4e6a_11eb_b2aa_3c15c2d14e7erow17_col3\" class=\"data row17 col3\" >620,000</td>\n",
       "            </tr>\n",
       "    </tbody></table>"
      ],
      "text/plain": [
       "<pandas.io.formats.style.Styler at 0x7fe1886cb8b0>"
      ]
     },
     "execution_count": 26,
     "metadata": {},
     "output_type": "execute_result"
    }
   ],
   "source": [
    "# generate a separate column for the comparison North America - Europe\n",
    "df['NA_EU'] = df['Continent'].copy()\n",
    "df['NA_EU'].replace({'AF':np.NaN, 'AS':np.NaN, 'OC':np.NaN, 'SA':np.NaN}, \n",
    "                     inplace=True)\n",
    "\n",
    "# remove data from other continents by filtering NaNs. \n",
    "# Remove missing data for OrgSize columns\n",
    "df.dropna(axis=0, how='any', inplace=True, subset=['OrgSize', 'NA_EU'])\n",
    "\n",
    "grouper = df.groupby(by=['OrgSize', 'NA_EU'], sort=True)\n",
    "\n",
    "format_dict = {'mean':'{:,.0f}', 'std':'{:,.0f}',\n",
    "               'min':'{:,.0f}', 'max':'{:,.0f}'}\n",
    "\n",
    "grouper['ConvertedComp'].agg(['mean','std','min', 'max']).style.format(format_dict)"
   ]
  },
  {
   "cell_type": "markdown",
   "metadata": {},
   "source": [
    "### Preprocessing\n",
    "Add a column \"Company_Size\" to have a coarser binning for company sizes."
   ]
  },
  {
   "cell_type": "code",
   "execution_count": 27,
   "metadata": {},
   "outputs": [],
   "source": [
    "df['Company_Size'] = df['OrgSize'].copy()\n",
    "df['Company_Size'].replace({'Just me':'1-9', \n",
    "                             '2 to 9':'1-9', \n",
    "                             '10 to 19':'10-99',\n",
    "                             '20 to 99':'10-99', \n",
    "                             '100 to 499':'100-999', \n",
    "                             '500 to 999':'100-999', \n",
    "                             '1,000 to 4,999':'1,000-10,000', \n",
    "                             '5,000 to 9,999':'1,000-10,000'},\n",
    "                             inplace=True)\n",
    "\n",
    "# again specify custom sort order for column 'Company_Size'\n",
    "org_sizes = ['1-9', '10-99', '100-999', '1,000-10,000'];\n",
    "org_size_dtype = pd.api.types.CategoricalDtype(categories=org_sizes, \n",
    "                                               ordered=True)\n",
    "df = df.astype({'Company_Size':org_size_dtype})\n",
    "\n",
    "# remove rows without company size information\n",
    "df.dropna(axis='index', how='any', subset=['Company_Size'], inplace=True)"
   ]
  },
  {
   "cell_type": "markdown",
   "metadata": {},
   "source": [
    "Add a column with normalized compensation values per continent that is calculated by subtracting the continent-specific mean and dividing by the std for each sample belonging to that continent."
   ]
  },
  {
   "cell_type": "code",
   "execution_count": 28,
   "metadata": {},
   "outputs": [],
   "source": [
    "# calculate mean and standard deviation per continent and add it as column \n",
    "# to the dataframe\n",
    "means_stds = df.groupby('Continent')['ConvertedComp'].agg(['mean','std'])\n",
    "means_stds.reset_index()\n",
    "df = df.merge(means_stds, on='Continent')\n",
    "del means_stds\n",
    "\n",
    "# calculate the normalized compensation value per continent and add it in a \n",
    "# new column\n",
    "df['CComp_norm'] = (df['ConvertedComp'] - df['mean']) / df['std']\n",
    "\n",
    "# remove the added \"mean\" and \"std\" column from the dataframe\n",
    "df.drop(columns=['mean', 'std'], inplace=True)"
   ]
  },
  {
   "cell_type": "markdown",
   "metadata": {},
   "source": [
    "### Visualization\n",
    "To get an impression of the data, we first visualize total compensation by\n",
    "organisation size for both North America and Europe. \n",
    "The first plot shows a density overlay while the second plots the same data as cumulative density function."
   ]
  },
  {
   "cell_type": "code",
   "execution_count": 29,
   "metadata": {},
   "outputs": [
    {
     "data": {
      "image/png": "[encoded data removed]",
      "text/plain": [
       "<Figure size 432x432 with 3 Axes>"
      ]
     },
     "metadata": {
      "needs_background": "light"
     },
     "output_type": "display_data"
    },
    {
     "data": {
      "text/plain": [
       "<Figure size 432x288 with 0 Axes>"
      ]
     },
     "metadata": {},
     "output_type": "display_data"
    }
   ],
   "source": [
    "grouper = df.groupby('Company_Size')\n",
    "df['num_OrgSize'] = grouper.ngroup()\n",
    "\n",
    "# generate x Ticklabels in the grouping order for later plotting (legend)\n",
    "labels = []\n",
    "for i in np.arange(0, grouper.ngroups, 1):\n",
    "    mask = (df.num_OrgSize == i)\n",
    "    val = np.unique(df.loc[mask, 'Company_Size'])\n",
    "    if len(val) > 0:\n",
    "        labels.append(val[0])\n",
    "del val, mask, i\n",
    "\n",
    "jg = sns.jointplot(data=df, x='num_OrgSize', y='ConvertedComp', \n",
    "              hue='NA_EU', color=\"#4CB391\", kind='kde')\n",
    "\n",
    "jg.ax_joint.set_xticks(ticks = np.unique(df.num_OrgSize));\n",
    "jg.ax_joint.set_xticklabels(labels=labels, rotation=90)\n",
    "\n",
    "jg.set_axis_labels(xlabel = 'Organisation Size by Employees', \n",
    "                   ylabel = 'Total compensation before taxes in USD');\n",
    "plt.axis('auto');\n",
    "plt.show()\n",
    "plt.savefig('Figures/Salary_by_OrgSize.png', bbox_inches='tight', \n",
    "            pad_inches=0.1);"
   ]
  },
  {
   "cell_type": "markdown",
   "metadata": {},
   "source": [
    "The next plot shows cumulative density estimates for total compensation for each continent and is left just out of curiosity"
   ]
  },
  {
   "cell_type": "code",
   "execution_count": 30,
   "metadata": {},
   "outputs": [],
   "source": [
    "# Generate a custom plot using a 2x3 grid of subplots\n",
    "# allow plotting outside the notebook\n",
    "%matplotlib qt \n",
    "\n",
    "fig, axes = plt.subplots(nrows=2, ncols=3, figsize=(20,20), \n",
    "                         sharex=True, sharey=True)\n",
    "ax_idx = 0\n",
    "\n",
    "for name, group in df.groupby('Continent'):\n",
    "    # plot axes only on rightmost subplots\n",
    "    legend_val = False\n",
    "    if (ax_idx == 5) | (ax_idx == 2):\n",
    "        legend_val = True\n",
    "    \n",
    "    # plot the cumulative density to the respective subplot axis\n",
    "    ax = sns.ecdfplot(x=group['ConvertedComp'].values, \n",
    "                      hue=group['OrgSize'].values,\n",
    "                      palette='twilight', ax=axes[ax_idx//3,ax_idx%3], \n",
    "                      legend=legend_val\n",
    "                     )\n",
    "    ax.set_title(name)\n",
    "    ax_idx += 1\n",
    "    \n",
    "# save plots to current directory\n",
    "plt.savefig('Figures/Income_Continent.png', bbox_inches='tight')\n",
    "plt.savefig('Figures/Income_Continent.pdf', bbox_inches='tight')\n",
    "\n",
    "# reset to plotting inside notebook\n",
    "%matplotlib inline "
   ]
  },
  {
   "cell_type": "markdown",
   "metadata": {},
   "source": [
    "### Statistical testing"
   ]
  },
  {
   "cell_type": "code",
   "execution_count": 31,
   "metadata": {},
   "outputs": [
    {
     "name": "stdout",
     "output_type": "stream",
     "text": [
      "Number of observations for  1-9 =  1857\n",
      "Number of observations for  10-99 =  4716\n",
      "Number of observations for  100-999 =  3810\n",
      "Number of observations for  1,000-10,000 =  2064\n",
      "EU  - P value of Kruskal-Wallis H-Test:  1.155480955509377e-34\n",
      "EU  - H statistic of Kruskal-Wallis Test: 160.92844416773252\n",
      "Alpha value after Bonferroni correction:  0.004166666666666667 \n",
      "\n",
      "Number of observations for  1-9 =  800\n",
      "Number of observations for  10-99 =  2222\n",
      "Number of observations for  100-999 =  2336\n",
      "Number of observations for  1,000-10,000 =  1669\n",
      "NA  - P value of Kruskal-Wallis H-Test:  1.150290044435623e-61\n",
      "NA  - H statistic of Kruskal-Wallis Test: 285.84618466316834\n",
      "Alpha value after Bonferroni correction:  0.004166666666666667 \n",
      "\n"
     ]
    }
   ],
   "source": [
    "out = []\n",
    "for country in ['EU', 'NA']:\n",
    "    mask = df['Continent'].isin([country]);\n",
    "    t_df = df.loc[mask, ['Continent', 'ConvertedComp', 'Company_Size']].copy();\n",
    "\n",
    "    t_labels, t_vals, df_test = generate_test_values_matrix(\n",
    "        data = t_df, y='ConvertedComp', str_X='Company_Size')\n",
    "\n",
    "    # as the data does not look normally distributed, due to the long tails, \n",
    "    # we need to revert to the nonparametric alternative to a two-way ANOVA\n",
    "    stat, pval = stats.kruskal(*t_vals, nan_policy='omit')\n",
    "    print(country, ' - P value of Kruskal-Wallis H-Test: ', pval)\n",
    "    print(country, ' - H statistic of Kruskal-Wallis Test:', stat)\n",
    "    \n",
    "    # get all possible group combinations\n",
    "    comb = itertools.combinations(np.arange(0,len(t_labels)), 2);\n",
    "    indices = [i for i in comb];\n",
    "    labels = [t_labels[i[0]] + ' vs. ' + t_labels[i[1]] for i in indices];\n",
    "\n",
    "    dfp = do_np_post_hoc_tests(t_vals, labels, indices, 0.025, True);\n",
    "    out.append(dfp)"
   ]
  },
  {
   "cell_type": "markdown",
   "metadata": {},
   "source": [
    "__Visualize post-hoc test results for European companies__"
   ]
  },
  {
   "cell_type": "code",
   "execution_count": 32,
   "metadata": {},
   "outputs": [
    {
     "data": {
      "text/html": [
       "<style  type=\"text/css\" >\n",
       "    #T_8b325efc_4e6a_11eb_b2aa_3c15c2d14e7erow0_col3 {\n",
       "            color:  red;\n",
       "        }    #T_8b325efc_4e6a_11eb_b2aa_3c15c2d14e7erow1_col3 {\n",
       "            color:  green;\n",
       "        }    #T_8b325efc_4e6a_11eb_b2aa_3c15c2d14e7erow2_col3 {\n",
       "            color:  green;\n",
       "        }    #T_8b325efc_4e6a_11eb_b2aa_3c15c2d14e7erow3_col3 {\n",
       "            color:  green;\n",
       "        }    #T_8b325efc_4e6a_11eb_b2aa_3c15c2d14e7erow4_col3 {\n",
       "            color:  green;\n",
       "        }    #T_8b325efc_4e6a_11eb_b2aa_3c15c2d14e7erow5_col3 {\n",
       "            color:  green;\n",
       "        }</style><table id=\"T_8b325efc_4e6a_11eb_b2aa_3c15c2d14e7e\" ><thead>    <tr>        <th class=\"blank level0\" ></th>        <th class=\"col_heading level0 col0\" >label</th>        <th class=\"col_heading level0 col1\" >Pval</th>        <th class=\"col_heading level0 col2\" >U-stat</th>        <th class=\"col_heading level0 col3\" >is_significant</th>    </tr></thead><tbody>\n",
       "                <tr>\n",
       "                        <th id=\"T_8b325efc_4e6a_11eb_b2aa_3c15c2d14e7elevel0_row0\" class=\"row_heading level0 row0\" >0</th>\n",
       "                        <td id=\"T_8b325efc_4e6a_11eb_b2aa_3c15c2d14e7erow0_col0\" class=\"data row0 col0\" >1-9 vs. 10-99</td>\n",
       "                        <td id=\"T_8b325efc_4e6a_11eb_b2aa_3c15c2d14e7erow0_col1\" class=\"data row0 col1\" >0.2277</td>\n",
       "                        <td id=\"T_8b325efc_4e6a_11eb_b2aa_3c15c2d14e7erow0_col2\" class=\"data row0 col2\" >4,327,114</td>\n",
       "                        <td id=\"T_8b325efc_4e6a_11eb_b2aa_3c15c2d14e7erow0_col3\" class=\"data row0 col3\" >False</td>\n",
       "            </tr>\n",
       "            <tr>\n",
       "                        <th id=\"T_8b325efc_4e6a_11eb_b2aa_3c15c2d14e7elevel0_row1\" class=\"row_heading level0 row1\" >1</th>\n",
       "                        <td id=\"T_8b325efc_4e6a_11eb_b2aa_3c15c2d14e7erow1_col0\" class=\"data row1 col0\" >1-9 vs. 100-999</td>\n",
       "                        <td id=\"T_8b325efc_4e6a_11eb_b2aa_3c15c2d14e7erow1_col1\" class=\"data row1 col1\" >0.0000</td>\n",
       "                        <td id=\"T_8b325efc_4e6a_11eb_b2aa_3c15c2d14e7erow1_col2\" class=\"data row1 col2\" >3,238,133</td>\n",
       "                        <td id=\"T_8b325efc_4e6a_11eb_b2aa_3c15c2d14e7erow1_col3\" class=\"data row1 col3\" >True</td>\n",
       "            </tr>\n",
       "            <tr>\n",
       "                        <th id=\"T_8b325efc_4e6a_11eb_b2aa_3c15c2d14e7elevel0_row2\" class=\"row_heading level0 row2\" >2</th>\n",
       "                        <td id=\"T_8b325efc_4e6a_11eb_b2aa_3c15c2d14e7erow2_col0\" class=\"data row2 col0\" >1-9 vs. 1,000-10,000</td>\n",
       "                        <td id=\"T_8b325efc_4e6a_11eb_b2aa_3c15c2d14e7erow2_col1\" class=\"data row2 col1\" >0.0000</td>\n",
       "                        <td id=\"T_8b325efc_4e6a_11eb_b2aa_3c15c2d14e7erow2_col2\" class=\"data row2 col2\" >1,600,996</td>\n",
       "                        <td id=\"T_8b325efc_4e6a_11eb_b2aa_3c15c2d14e7erow2_col3\" class=\"data row2 col3\" >True</td>\n",
       "            </tr>\n",
       "            <tr>\n",
       "                        <th id=\"T_8b325efc_4e6a_11eb_b2aa_3c15c2d14e7elevel0_row3\" class=\"row_heading level0 row3\" >3</th>\n",
       "                        <td id=\"T_8b325efc_4e6a_11eb_b2aa_3c15c2d14e7erow3_col0\" class=\"data row3 col0\" >10-99 vs. 100-999</td>\n",
       "                        <td id=\"T_8b325efc_4e6a_11eb_b2aa_3c15c2d14e7erow3_col1\" class=\"data row3 col1\" >0.0000</td>\n",
       "                        <td id=\"T_8b325efc_4e6a_11eb_b2aa_3c15c2d14e7erow3_col2\" class=\"data row3 col2\" >8,222,356</td>\n",
       "                        <td id=\"T_8b325efc_4e6a_11eb_b2aa_3c15c2d14e7erow3_col3\" class=\"data row3 col3\" >True</td>\n",
       "            </tr>\n",
       "            <tr>\n",
       "                        <th id=\"T_8b325efc_4e6a_11eb_b2aa_3c15c2d14e7elevel0_row4\" class=\"row_heading level0 row4\" >4</th>\n",
       "                        <td id=\"T_8b325efc_4e6a_11eb_b2aa_3c15c2d14e7erow4_col0\" class=\"data row4 col0\" >10-99 vs. 1,000-10,000</td>\n",
       "                        <td id=\"T_8b325efc_4e6a_11eb_b2aa_3c15c2d14e7erow4_col1\" class=\"data row4 col1\" >0.0000</td>\n",
       "                        <td id=\"T_8b325efc_4e6a_11eb_b2aa_3c15c2d14e7erow4_col2\" class=\"data row4 col2\" >4,002,932</td>\n",
       "                        <td id=\"T_8b325efc_4e6a_11eb_b2aa_3c15c2d14e7erow4_col3\" class=\"data row4 col3\" >True</td>\n",
       "            </tr>\n",
       "            <tr>\n",
       "                        <th id=\"T_8b325efc_4e6a_11eb_b2aa_3c15c2d14e7elevel0_row5\" class=\"row_heading level0 row5\" >5</th>\n",
       "                        <td id=\"T_8b325efc_4e6a_11eb_b2aa_3c15c2d14e7erow5_col0\" class=\"data row5 col0\" >100-999 vs. 1,000-10,000</td>\n",
       "                        <td id=\"T_8b325efc_4e6a_11eb_b2aa_3c15c2d14e7erow5_col1\" class=\"data row5 col1\" >0.0000</td>\n",
       "                        <td id=\"T_8b325efc_4e6a_11eb_b2aa_3c15c2d14e7erow5_col2\" class=\"data row5 col2\" >3,540,446</td>\n",
       "                        <td id=\"T_8b325efc_4e6a_11eb_b2aa_3c15c2d14e7erow5_col3\" class=\"data row5 col3\" >True</td>\n",
       "            </tr>\n",
       "    </tbody></table>"
      ],
      "text/plain": [
       "<pandas.io.formats.style.Styler at 0x7fe1a70f6610>"
      ]
     },
     "execution_count": 32,
     "metadata": {},
     "output_type": "execute_result"
    }
   ],
   "source": [
    "# formatting for Styler object to render a readable table\n",
    "format_dict = {'Pval':'{:,.4f}', 'U-stat':'{:,.0f}'}\n",
    "\n",
    "def _color_red_or_green(val):\n",
    "    color = 'green' if val else 'grey'\n",
    "    return 'color: %s' % color\n",
    "\n",
    "# apply format dict styling first and only to a subset of columns. Then\n",
    "# apply another style to the last column, highlighting significance in green.\n",
    "out[0].style.format(format_dict, \n",
    "                    subset = pd.IndexSlice[:, ['Pval', 'U-stat']]).applymap(\n",
    "                        lambda x: \"color: green\" \\\n",
    "                        if x else \"color: red\", \n",
    "                        subset=pd.IndexSlice[:, ['is_significant']])"
   ]
  },
  {
   "cell_type": "markdown",
   "metadata": {},
   "source": [
    "__EUROPE__<br>\n",
    "Show median and percentiles to determine the direction of the difference"
   ]
  },
  {
   "cell_type": "code",
   "execution_count": 33,
   "metadata": {},
   "outputs": [
    {
     "data": {
      "text/html": [
       "<div>\n",
       "<style scoped>\n",
       "    .dataframe tbody tr th:only-of-type {\n",
       "        vertical-align: middle;\n",
       "    }\n",
       "\n",
       "    .dataframe tbody tr th {\n",
       "        vertical-align: top;\n",
       "    }\n",
       "\n",
       "    .dataframe thead th {\n",
       "        text-align: right;\n",
       "    }\n",
       "</style>\n",
       "<table border=\"1\" class=\"dataframe\">\n",
       "  <thead>\n",
       "    <tr style=\"text-align: right;\">\n",
       "      <th></th>\n",
       "      <th>count</th>\n",
       "      <th>mean</th>\n",
       "      <th>std</th>\n",
       "      <th>min</th>\n",
       "      <th>25%</th>\n",
       "      <th>50%</th>\n",
       "      <th>75%</th>\n",
       "      <th>max</th>\n",
       "    </tr>\n",
       "    <tr>\n",
       "      <th>Company_Size</th>\n",
       "      <th></th>\n",
       "      <th></th>\n",
       "      <th></th>\n",
       "      <th></th>\n",
       "      <th></th>\n",
       "      <th></th>\n",
       "      <th></th>\n",
       "      <th></th>\n",
       "    </tr>\n",
       "  </thead>\n",
       "  <tbody>\n",
       "    <tr>\n",
       "      <th>1-9</th>\n",
       "      <td>1857.0</td>\n",
       "      <td>60209.082391</td>\n",
       "      <td>64741.556848</td>\n",
       "      <td>0.0</td>\n",
       "      <td>25944.0</td>\n",
       "      <td>44100.0</td>\n",
       "      <td>71340.0</td>\n",
       "      <td>596700.0</td>\n",
       "    </tr>\n",
       "    <tr>\n",
       "      <th>10-99</th>\n",
       "      <td>4716.0</td>\n",
       "      <td>59634.866200</td>\n",
       "      <td>71883.361229</td>\n",
       "      <td>0.0</td>\n",
       "      <td>29832.0</td>\n",
       "      <td>45396.0</td>\n",
       "      <td>64859.0</td>\n",
       "      <td>613656.0</td>\n",
       "    </tr>\n",
       "    <tr>\n",
       "      <th>100-999</th>\n",
       "      <td>3810.0</td>\n",
       "      <td>61835.450656</td>\n",
       "      <td>66939.330668</td>\n",
       "      <td>0.0</td>\n",
       "      <td>33924.0</td>\n",
       "      <td>48936.0</td>\n",
       "      <td>68507.0</td>\n",
       "      <td>609672.0</td>\n",
       "    </tr>\n",
       "    <tr>\n",
       "      <th>1,000-10,000</th>\n",
       "      <td>2064.0</td>\n",
       "      <td>67099.774709</td>\n",
       "      <td>65248.448244</td>\n",
       "      <td>0.0</td>\n",
       "      <td>37620.0</td>\n",
       "      <td>54089.0</td>\n",
       "      <td>76329.0</td>\n",
       "      <td>604932.0</td>\n",
       "    </tr>\n",
       "  </tbody>\n",
       "</table>\n",
       "</div>"
      ],
      "text/plain": [
       "               count          mean           std  min      25%      50%  \\\n",
       "Company_Size                                                              \n",
       "1-9           1857.0  60209.082391  64741.556848  0.0  25944.0  44100.0   \n",
       "10-99         4716.0  59634.866200  71883.361229  0.0  29832.0  45396.0   \n",
       "100-999       3810.0  61835.450656  66939.330668  0.0  33924.0  48936.0   \n",
       "1,000-10,000  2064.0  67099.774709  65248.448244  0.0  37620.0  54089.0   \n",
       "\n",
       "                  75%       max  \n",
       "Company_Size                     \n",
       "1-9           71340.0  596700.0  \n",
       "10-99         64859.0  613656.0  \n",
       "100-999       68507.0  609672.0  \n",
       "1,000-10,000  76329.0  604932.0  "
      ]
     },
     "execution_count": 33,
     "metadata": {},
     "output_type": "execute_result"
    }
   ],
   "source": [
    "dft = df[df['Continent'] == 'EU'].copy()\n",
    "dft.groupby(by=['Company_Size'], sort=True)['ConvertedComp'].describe()"
   ]
  },
  {
   "cell_type": "markdown",
   "metadata": {},
   "source": [
    "__Visualize post-hoc test results for North American companies__"
   ]
  },
  {
   "cell_type": "code",
   "execution_count": 34,
   "metadata": {},
   "outputs": [
    {
     "data": {
      "text/html": [
       "<style  type=\"text/css\" >\n",
       "    #T_8b4356d0_4e6a_11eb_b2aa_3c15c2d14e7erow0_col3 {\n",
       "            color:  green;\n",
       "        }    #T_8b4356d0_4e6a_11eb_b2aa_3c15c2d14e7erow1_col3 {\n",
       "            color:  green;\n",
       "        }    #T_8b4356d0_4e6a_11eb_b2aa_3c15c2d14e7erow2_col3 {\n",
       "            color:  green;\n",
       "        }    #T_8b4356d0_4e6a_11eb_b2aa_3c15c2d14e7erow3_col3 {\n",
       "            color:  green;\n",
       "        }    #T_8b4356d0_4e6a_11eb_b2aa_3c15c2d14e7erow4_col3 {\n",
       "            color:  green;\n",
       "        }    #T_8b4356d0_4e6a_11eb_b2aa_3c15c2d14e7erow5_col3 {\n",
       "            color:  green;\n",
       "        }</style><table id=\"T_8b4356d0_4e6a_11eb_b2aa_3c15c2d14e7e\" ><thead>    <tr>        <th class=\"blank level0\" ></th>        <th class=\"col_heading level0 col0\" >label</th>        <th class=\"col_heading level0 col1\" >Pval</th>        <th class=\"col_heading level0 col2\" >U-stat</th>        <th class=\"col_heading level0 col3\" >is_significant</th>    </tr></thead><tbody>\n",
       "                <tr>\n",
       "                        <th id=\"T_8b4356d0_4e6a_11eb_b2aa_3c15c2d14e7elevel0_row0\" class=\"row_heading level0 row0\" >0</th>\n",
       "                        <td id=\"T_8b4356d0_4e6a_11eb_b2aa_3c15c2d14e7erow0_col0\" class=\"data row0 col0\" >1-9 vs. 10-99</td>\n",
       "                        <td id=\"T_8b4356d0_4e6a_11eb_b2aa_3c15c2d14e7erow0_col1\" class=\"data row0 col1\" >0.0000</td>\n",
       "                        <td id=\"T_8b4356d0_4e6a_11eb_b2aa_3c15c2d14e7erow0_col2\" class=\"data row0 col2\" >753,256</td>\n",
       "                        <td id=\"T_8b4356d0_4e6a_11eb_b2aa_3c15c2d14e7erow0_col3\" class=\"data row0 col3\" >True</td>\n",
       "            </tr>\n",
       "            <tr>\n",
       "                        <th id=\"T_8b4356d0_4e6a_11eb_b2aa_3c15c2d14e7elevel0_row1\" class=\"row_heading level0 row1\" >1</th>\n",
       "                        <td id=\"T_8b4356d0_4e6a_11eb_b2aa_3c15c2d14e7erow1_col0\" class=\"data row1 col0\" >1-9 vs. 100-999</td>\n",
       "                        <td id=\"T_8b4356d0_4e6a_11eb_b2aa_3c15c2d14e7erow1_col1\" class=\"data row1 col1\" >0.0000</td>\n",
       "                        <td id=\"T_8b4356d0_4e6a_11eb_b2aa_3c15c2d14e7erow1_col2\" class=\"data row1 col2\" >682,333</td>\n",
       "                        <td id=\"T_8b4356d0_4e6a_11eb_b2aa_3c15c2d14e7erow1_col3\" class=\"data row1 col3\" >True</td>\n",
       "            </tr>\n",
       "            <tr>\n",
       "                        <th id=\"T_8b4356d0_4e6a_11eb_b2aa_3c15c2d14e7elevel0_row2\" class=\"row_heading level0 row2\" >2</th>\n",
       "                        <td id=\"T_8b4356d0_4e6a_11eb_b2aa_3c15c2d14e7erow2_col0\" class=\"data row2 col0\" >1-9 vs. 1,000-10,000</td>\n",
       "                        <td id=\"T_8b4356d0_4e6a_11eb_b2aa_3c15c2d14e7erow2_col1\" class=\"data row2 col1\" >0.0000</td>\n",
       "                        <td id=\"T_8b4356d0_4e6a_11eb_b2aa_3c15c2d14e7erow2_col2\" class=\"data row2 col2\" >437,842</td>\n",
       "                        <td id=\"T_8b4356d0_4e6a_11eb_b2aa_3c15c2d14e7erow2_col3\" class=\"data row2 col3\" >True</td>\n",
       "            </tr>\n",
       "            <tr>\n",
       "                        <th id=\"T_8b4356d0_4e6a_11eb_b2aa_3c15c2d14e7elevel0_row3\" class=\"row_heading level0 row3\" >3</th>\n",
       "                        <td id=\"T_8b4356d0_4e6a_11eb_b2aa_3c15c2d14e7erow3_col0\" class=\"data row3 col0\" >10-99 vs. 100-999</td>\n",
       "                        <td id=\"T_8b4356d0_4e6a_11eb_b2aa_3c15c2d14e7erow3_col1\" class=\"data row3 col1\" >0.0000</td>\n",
       "                        <td id=\"T_8b4356d0_4e6a_11eb_b2aa_3c15c2d14e7erow3_col2\" class=\"data row3 col2\" >2,232,660</td>\n",
       "                        <td id=\"T_8b4356d0_4e6a_11eb_b2aa_3c15c2d14e7erow3_col3\" class=\"data row3 col3\" >True</td>\n",
       "            </tr>\n",
       "            <tr>\n",
       "                        <th id=\"T_8b4356d0_4e6a_11eb_b2aa_3c15c2d14e7elevel0_row4\" class=\"row_heading level0 row4\" >4</th>\n",
       "                        <td id=\"T_8b4356d0_4e6a_11eb_b2aa_3c15c2d14e7erow4_col0\" class=\"data row4 col0\" >10-99 vs. 1,000-10,000</td>\n",
       "                        <td id=\"T_8b4356d0_4e6a_11eb_b2aa_3c15c2d14e7erow4_col1\" class=\"data row4 col1\" >0.0000</td>\n",
       "                        <td id=\"T_8b4356d0_4e6a_11eb_b2aa_3c15c2d14e7erow4_col2\" class=\"data row4 col2\" >1,428,193</td>\n",
       "                        <td id=\"T_8b4356d0_4e6a_11eb_b2aa_3c15c2d14e7erow4_col3\" class=\"data row4 col3\" >True</td>\n",
       "            </tr>\n",
       "            <tr>\n",
       "                        <th id=\"T_8b4356d0_4e6a_11eb_b2aa_3c15c2d14e7elevel0_row5\" class=\"row_heading level0 row5\" >5</th>\n",
       "                        <td id=\"T_8b4356d0_4e6a_11eb_b2aa_3c15c2d14e7erow5_col0\" class=\"data row5 col0\" >100-999 vs. 1,000-10,000</td>\n",
       "                        <td id=\"T_8b4356d0_4e6a_11eb_b2aa_3c15c2d14e7erow5_col1\" class=\"data row5 col1\" >0.0000</td>\n",
       "                        <td id=\"T_8b4356d0_4e6a_11eb_b2aa_3c15c2d14e7erow5_col2\" class=\"data row5 col2\" >1,756,530</td>\n",
       "                        <td id=\"T_8b4356d0_4e6a_11eb_b2aa_3c15c2d14e7erow5_col3\" class=\"data row5 col3\" >True</td>\n",
       "            </tr>\n",
       "    </tbody></table>"
      ],
      "text/plain": [
       "<pandas.io.formats.style.Styler at 0x7fe1a317bac0>"
      ]
     },
     "execution_count": 34,
     "metadata": {},
     "output_type": "execute_result"
    }
   ],
   "source": [
    "out[1].style.format(format_dict)\n",
    "out[1].style.format(format_dict, \n",
    "                    subset = pd.IndexSlice[:, ['Pval', 'U-stat']]).applymap(\n",
    "                        lambda x: \"color: green\" \\\n",
    "                        if x else \"color: red\", \n",
    "                        subset=pd.IndexSlice[:, ['is_significant']])"
   ]
  },
  {
   "cell_type": "markdown",
   "metadata": {},
   "source": [
    "__NORTH AMERICA__<br>Show median and percentiles to determine the direction of the difference"
   ]
  },
  {
   "cell_type": "code",
   "execution_count": 35,
   "metadata": {},
   "outputs": [
    {
     "data": {
      "text/html": [
       "<div>\n",
       "<style scoped>\n",
       "    .dataframe tbody tr th:only-of-type {\n",
       "        vertical-align: middle;\n",
       "    }\n",
       "\n",
       "    .dataframe tbody tr th {\n",
       "        vertical-align: top;\n",
       "    }\n",
       "\n",
       "    .dataframe thead th {\n",
       "        text-align: right;\n",
       "    }\n",
       "</style>\n",
       "<table border=\"1\" class=\"dataframe\">\n",
       "  <thead>\n",
       "    <tr style=\"text-align: right;\">\n",
       "      <th></th>\n",
       "      <th>count</th>\n",
       "      <th>mean</th>\n",
       "      <th>std</th>\n",
       "      <th>min</th>\n",
       "      <th>25%</th>\n",
       "      <th>50%</th>\n",
       "      <th>75%</th>\n",
       "      <th>max</th>\n",
       "    </tr>\n",
       "    <tr>\n",
       "      <th>Company_Size</th>\n",
       "      <th></th>\n",
       "      <th></th>\n",
       "      <th></th>\n",
       "      <th></th>\n",
       "      <th></th>\n",
       "      <th></th>\n",
       "      <th></th>\n",
       "      <th></th>\n",
       "    </tr>\n",
       "  </thead>\n",
       "  <tbody>\n",
       "    <tr>\n",
       "      <th>1-9</th>\n",
       "      <td>800.0</td>\n",
       "      <td>88088.035000</td>\n",
       "      <td>77897.513295</td>\n",
       "      <td>0.0</td>\n",
       "      <td>38688.00</td>\n",
       "      <td>72000.0</td>\n",
       "      <td>120000.0</td>\n",
       "      <td>600000.0</td>\n",
       "    </tr>\n",
       "    <tr>\n",
       "      <th>10-99</th>\n",
       "      <td>2222.0</td>\n",
       "      <td>95581.504050</td>\n",
       "      <td>59303.548216</td>\n",
       "      <td>0.0</td>\n",
       "      <td>60000.00</td>\n",
       "      <td>88000.0</td>\n",
       "      <td>122750.0</td>\n",
       "      <td>589920.0</td>\n",
       "    </tr>\n",
       "    <tr>\n",
       "      <th>100-999</th>\n",
       "      <td>2336.0</td>\n",
       "      <td>105196.283390</td>\n",
       "      <td>52977.982219</td>\n",
       "      <td>0.0</td>\n",
       "      <td>71069.75</td>\n",
       "      <td>100000.0</td>\n",
       "      <td>133250.0</td>\n",
       "      <td>576000.0</td>\n",
       "    </tr>\n",
       "    <tr>\n",
       "      <th>1,000-10,000</th>\n",
       "      <td>1669.0</td>\n",
       "      <td>120653.324745</td>\n",
       "      <td>74123.566837</td>\n",
       "      <td>0.0</td>\n",
       "      <td>78000.00</td>\n",
       "      <td>105884.0</td>\n",
       "      <td>142700.0</td>\n",
       "      <td>600000.0</td>\n",
       "    </tr>\n",
       "  </tbody>\n",
       "</table>\n",
       "</div>"
      ],
      "text/plain": [
       "               count           mean           std  min       25%       50%  \\\n",
       "Company_Size                                                                 \n",
       "1-9            800.0   88088.035000  77897.513295  0.0  38688.00   72000.0   \n",
       "10-99         2222.0   95581.504050  59303.548216  0.0  60000.00   88000.0   \n",
       "100-999       2336.0  105196.283390  52977.982219  0.0  71069.75  100000.0   \n",
       "1,000-10,000  1669.0  120653.324745  74123.566837  0.0  78000.00  105884.0   \n",
       "\n",
       "                   75%       max  \n",
       "Company_Size                      \n",
       "1-9           120000.0  600000.0  \n",
       "10-99         122750.0  589920.0  \n",
       "100-999       133250.0  576000.0  \n",
       "1,000-10,000  142700.0  600000.0  "
      ]
     },
     "execution_count": 35,
     "metadata": {},
     "output_type": "execute_result"
    }
   ],
   "source": [
    "dft = df[df['Continent'] == 'NA'].copy()\n",
    "dft.groupby(by=['Company_Size'], sort=True)['ConvertedComp'].describe()"
   ]
  },
  {
   "cell_type": "code",
   "execution_count": 36,
   "metadata": {},
   "outputs": [
    {
     "data": {
      "image/png": "[encoded data removed]",
      "text/plain": [
       "<Figure size 455.5x360 with 1 Axes>"
      ]
     },
     "metadata": {
      "needs_background": "light"
     },
     "output_type": "display_data"
    }
   ],
   "source": [
    "mask = df['Continent'].isin(['EU']);\n",
    "t_df = df.loc[mask, ['Continent', 'ConvertedComp','Company_Size']].copy()\n",
    "\n",
    "sns.displot(data=t_df, x='ConvertedComp', hue='Company_Size', kind='ecdf')\n",
    "plt.title('Total compensation by Organisation Size - EU');\n",
    "plt.xlabel('Compensation in USD');\n",
    "plt.savefig('Figures/EU_Compansation_by_CompanySize.png', bbox_inches='tight')\n",
    "\n",
    "# clear variables we no longer need\n",
    "# del comparisons, indices, test_values, name, group, statistic, pvalue, df, i"
   ]
  },
  {
   "cell_type": "code",
   "execution_count": 37,
   "metadata": {},
   "outputs": [
    {
     "data": {
      "image/png": "[encoded data removed]",
      "text/plain": [
       "<Figure size 455.5x360 with 1 Axes>"
      ]
     },
     "metadata": {
      "needs_background": "light"
     },
     "output_type": "display_data"
    }
   ],
   "source": [
    "mask = df['Continent'].isin(['NA']);\n",
    "t_df = df.loc[mask, ['Continent', 'ConvertedComp','Company_Size']].copy()\n",
    "\n",
    "sns.displot(data=t_df, x='ConvertedComp', hue='Company_Size', kind='ecdf')\n",
    "plt.title('Total compensation by Organisation Size - NA');\n",
    "plt.xlabel('Compensation in USD');\n",
    "plt.savefig('Figures/NA_Compansation_by_CompanySize.png', bbox_inches='tight')\n",
    "# clear variables we no longer need\n",
    "# del comparisons, indices, test_values, name, group, statistic, pvalue, df, i"
   ]
  },
  {
   "cell_type": "markdown",
   "metadata": {},
   "source": [
    "## Extra question: can we predict job satisfaction / branch of work based on compensation, work hours,...?\n",
    "I wanted to use an unsupervised model to determine whether I can, for example, predict the main branch of work (e.g. if somebody is a full stack developer vs. a frontend developer) based on their salary and work hours per week. \n",
    "\n",
    "Rather than the main branch, the model can equally be trained on job satisfaction. \n",
    "\n",
    "The results do look strange, so I did not include this analysis in the report."
   ]
  },
  {
   "cell_type": "code",
   "execution_count": 38,
   "metadata": {},
   "outputs": [],
   "source": [
    "# # If necessary: uncomment to create a combined factor for prediction\n",
    "# grouper= dfs.groupby(['OrgSize', 'Continent'])\n",
    "# dfs['OrgSize_x_Continent'] = grouper.ngroup()\n",
    "\n",
    "# Define factors used for prediction\n",
    "factors = ['WorkWeekHrs', 'CComp_norm'];\n",
    "predictor = ['MainBranch']\n",
    "\n",
    "continent = ['NA'] # continent to restrict analysis to\n",
    "continent_str = 'North America' # name used for plotting\n",
    "\n",
    "if predictor[0] == 'JobSat':\n",
    "    # Dichotomize Job Satisfaction\n",
    "    dfs['is_Satisfied'] = dfs.JobSat.copy()\n",
    "    dfs.is_Satisfied.replace({'Neither satisfied nor dissatisfied':np.nan, \n",
    "                              'Slightly dissatisfied':'Not satisfied',\n",
    "                              'Very dissatisfied':'Not satisfied',\n",
    "                              'Slightly satisfied':'Satisfied', \n",
    "                              'Very satisfied':'Satisfied'}, inplace=True)\n",
    "\n",
    "dfs_svm = dfs.dropna(axis=0, how='any', subset=[*factors, *predictor])\n",
    "mask = dfs_svm['Continent'].isin(continent);"
   ]
  },
  {
   "cell_type": "code",
   "execution_count": 39,
   "metadata": {},
   "outputs": [
    {
     "name": "stdout",
     "output_type": "stream",
     "text": [
      "using  9032  samples and  2  factors for prediction\n",
      "using  (9032,)  predictor samples\n"
     ]
    }
   ],
   "source": [
    "# SVC takes two arrays as input: an array X (n_samples, n_features) holding \n",
    "# the training samples, and an array y (strings or integers), of shape \n",
    "# (n_samples,1)\n",
    "\n",
    "X = np.array(dfs_svm.loc[mask, factors]).reshape([-1,2])\n",
    "y = np.array(dfs_svm.loc[mask, predictor]).ravel()\n",
    "\n",
    "print('using ', X.shape[0], ' samples and ', X.shape[1], \n",
    "      ' factors for prediction')\n",
    "print('using ', y.shape, ' predictor samples')"
   ]
  },
  {
   "cell_type": "markdown",
   "metadata": {},
   "source": [
    "The following code - in particular the plotting functions - is (partly adapted) from https://scikit-learn.org/0.18/_sources/auto_examples/svm/plot_iris.txt (BSD license)"
   ]
  },
  {
   "cell_type": "code",
   "execution_count": 40,
   "metadata": {},
   "outputs": [
    {
     "data": {
      "image/png": "[encoded data removed]",
      "text/plain": [
       "<Figure size 432x288 with 2 Axes>"
      ]
     },
     "metadata": {
      "needs_background": "light"
     },
     "output_type": "display_data"
    }
   ],
   "source": [
    "poly_svc = SVC(kernel='poly', degree=3)\n",
    "poly_svc.fit(X, y);\n",
    "\n",
    "linear_svc = SVC(kernel='linear')\n",
    "linear_svc.fit(X, y);\n",
    "\n",
    "h = 0.2\n",
    "continent_str = 'North America'\n",
    "# Transform predictor variable to numeric [0, 1] for plotting\n",
    "# y must not contain more than two different values\n",
    "y_colors = np.array([i == y[0] for i in y]).astype(int)\n",
    "\n",
    "# title for the plots\n",
    "titles = [continent_str + 'SVC with linear kernel',\n",
    "          continent_str + 'SVC with polynomial (degree 3) kernel']\n",
    "\n",
    "\n",
    "# create a mesh to plot in\n",
    "x_min, x_max = X[:, 0].min() - 1, X[:, 0].max() + 1\n",
    "y_min, y_max = X[:, 1].min() - 1, X[:, 1].max() + 1\n",
    "xx, yy = np.meshgrid(np.arange(x_min, x_max, h),\n",
    "                     np.arange(y_min, y_max, h))\n",
    "\n",
    "for i, clf in enumerate((linear_svc, poly_svc)):\n",
    "    # Plot the decision boundary. For that, we will assign a color to each\n",
    "    # point in the mesh [x_min, x_max]x[y_min, y_max].\n",
    "    plt.subplot(3, 1, i + 1)\n",
    "    plt.subplots_adjust(wspace=0.4, hspace=0.4)\n",
    "\n",
    "    Z = clf.predict(np.c_[xx.ravel(), yy.ravel()])\n",
    "    Z = np.array([i == y[0] for i in Z]).astype(int);\n",
    "    \n",
    "    # Put the result into a color plot\n",
    "    Z = Z.reshape(xx.shape)\n",
    "    plt.contourf(xx, yy, Z, cmap=plt.cm.coolwarm, alpha=0.8)\n",
    "\n",
    "    # Plot also the training points\n",
    "    plt.scatter(X[:, 0], X[:, 1], c=y_colors, cmap=plt.cm.coolwarm)\n",
    "    plt.xlabel(factors[0])\n",
    "    plt.ylabel(factors[1])\n",
    "    plt.xlim(xx.min(), xx.max())\n",
    "    plt.ylim(yy.min(), yy.max())\n",
    "    plt.title(titles[i])\n",
    "\n",
    "plt.show()"
   ]
  }
 ],
 "metadata": {
  "kernelspec": {
   "display_name": "Python 3",
   "language": "python",
   "name": "python3"
  },
  "language_info": {
   "codemirror_mode": {
    "name": "ipython",
    "version": 3
   },
   "file_extension": ".py",
   "mimetype": "text/x-python",
   "name": "python",
   "nbconvert_exporter": "python",
   "pygments_lexer": "ipython3",
   "version": "3.8.3"
  },
  "toc": {
   "base_numbering": 1,
   "nav_menu": {},
   "number_sections": true,
   "sideBar": true,
   "skip_h1_title": false,
   "title_cell": "Table of Contents",
   "title_sidebar": "Contents",
   "toc_cell": false,
   "toc_position": {},
   "toc_section_display": true,
   "toc_window_display": false
  }
 },
 "nbformat": 4,
 "nbformat_minor": 4
}
